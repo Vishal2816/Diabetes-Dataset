{
 "cells": [
  {
   "cell_type": "code",
   "execution_count": 1,
   "metadata": {},
   "outputs": [],
   "source": [
    "\n",
    "import pandas as pd\n",
    "import numpy as np\n",
    "import matplotlib.pyplot as plt\n",
    "import time\n",
    "import numpy as np # linear algebra\n",
    "import pandas as pd # data processing, CSV file I/O (e.g. pd.read_csv)\n",
    "import matplotlib.pyplot as plt #Visualization Library\n",
    "import seaborn as sns #Visualization Library"
   ]
  },
  {
   "cell_type": "markdown",
   "metadata": {},
   "source": [
    "Let's start our analysis by understanding each and every input variable ......\n",
    "\n",
    "From the dataset the following attributes are used for identifying unique patinets.\n",
    "\n",
    "Patinent_nbr : This attribute is used to identify unique patientsadmitted into the hospitals.\n",
    "Encounter_id : This attribute gives information of Unique identifier of an patient encounter."
   ]
  },
  {
   "cell_type": "code",
   "execution_count": 57,
   "metadata": {},
   "outputs": [
    {
     "data": {
      "text/html": [
       "<div>\n",
       "<style scoped>\n",
       "    .dataframe tbody tr th:only-of-type {\n",
       "        vertical-align: middle;\n",
       "    }\n",
       "\n",
       "    .dataframe tbody tr th {\n",
       "        vertical-align: top;\n",
       "    }\n",
       "\n",
       "    .dataframe thead th {\n",
       "        text-align: right;\n",
       "    }\n",
       "</style>\n",
       "<table border=\"1\" class=\"dataframe\">\n",
       "  <thead>\n",
       "    <tr style=\"text-align: right;\">\n",
       "      <th></th>\n",
       "      <th>encounter_id</th>\n",
       "      <th>patient_nbr</th>\n",
       "      <th>race</th>\n",
       "      <th>gender</th>\n",
       "      <th>age</th>\n",
       "      <th>weight</th>\n",
       "    </tr>\n",
       "  </thead>\n",
       "  <tbody>\n",
       "    <tr>\n",
       "      <th>0</th>\n",
       "      <td>2278392</td>\n",
       "      <td>8222157</td>\n",
       "      <td>Caucasian</td>\n",
       "      <td>Female</td>\n",
       "      <td>[0-10)</td>\n",
       "      <td>?</td>\n",
       "    </tr>\n",
       "    <tr>\n",
       "      <th>1</th>\n",
       "      <td>149190</td>\n",
       "      <td>55629189</td>\n",
       "      <td>Caucasian</td>\n",
       "      <td>Female</td>\n",
       "      <td>[10-20)</td>\n",
       "      <td>?</td>\n",
       "    </tr>\n",
       "    <tr>\n",
       "      <th>2</th>\n",
       "      <td>64410</td>\n",
       "      <td>86047875</td>\n",
       "      <td>AfricanAmerican</td>\n",
       "      <td>Female</td>\n",
       "      <td>[20-30)</td>\n",
       "      <td>?</td>\n",
       "    </tr>\n",
       "    <tr>\n",
       "      <th>3</th>\n",
       "      <td>500364</td>\n",
       "      <td>82442376</td>\n",
       "      <td>Caucasian</td>\n",
       "      <td>Male</td>\n",
       "      <td>[30-40)</td>\n",
       "      <td>?</td>\n",
       "    </tr>\n",
       "    <tr>\n",
       "      <th>4</th>\n",
       "      <td>16680</td>\n",
       "      <td>42519267</td>\n",
       "      <td>Caucasian</td>\n",
       "      <td>Male</td>\n",
       "      <td>[40-50)</td>\n",
       "      <td>?</td>\n",
       "    </tr>\n",
       "  </tbody>\n",
       "</table>\n",
       "</div>"
      ],
      "text/plain": [
       "   encounter_id  patient_nbr             race  gender      age weight\n",
       "0       2278392      8222157        Caucasian  Female   [0-10)      ?\n",
       "1        149190     55629189        Caucasian  Female  [10-20)      ?\n",
       "2         64410     86047875  AfricanAmerican  Female  [20-30)      ?\n",
       "3        500364     82442376        Caucasian    Male  [30-40)      ?\n",
       "4         16680     42519267        Caucasian    Male  [40-50)      ?"
      ]
     },
     "execution_count": 57,
     "metadata": {},
     "output_type": "execute_result"
    }
   ],
   "source": [
    "patient_details = pd.read_excel(\"C://Users//hp//Downloads//Paitent_details.xlsx\")\n",
    "patient_details.head()"
   ]
  },
  {
   "cell_type": "markdown",
   "metadata": {},
   "source": [
    "The data above consits of patients details who joins into the hospital in simple terms demographics like race, gender, age and weight of patients of each patient which plays crucial role in prescribing suitable treatment."
   ]
  },
  {
   "cell_type": "code",
   "execution_count": 58,
   "metadata": {},
   "outputs": [
    {
     "name": "stdout",
     "output_type": "stream",
     "text": [
      "<class 'pandas.core.frame.DataFrame'>\n",
      "RangeIndex: 101766 entries, 0 to 101765\n",
      "Data columns (total 6 columns):\n",
      "encounter_id    101766 non-null int64\n",
      "patient_nbr     101766 non-null int64\n",
      "race            101766 non-null object\n",
      "gender          101766 non-null object\n",
      "age             101766 non-null object\n",
      "weight          101766 non-null object\n",
      "dtypes: int64(2), object(4)\n",
      "memory usage: 4.7+ MB\n"
     ]
    }
   ],
   "source": [
    "patient_details.info()"
   ]
  },
  {
   "cell_type": "code",
   "execution_count": 59,
   "metadata": {},
   "outputs": [
    {
     "data": {
      "text/html": [
       "<div>\n",
       "<style scoped>\n",
       "    .dataframe tbody tr th:only-of-type {\n",
       "        vertical-align: middle;\n",
       "    }\n",
       "\n",
       "    .dataframe tbody tr th {\n",
       "        vertical-align: top;\n",
       "    }\n",
       "\n",
       "    .dataframe thead th {\n",
       "        text-align: right;\n",
       "    }\n",
       "</style>\n",
       "<table border=\"1\" class=\"dataframe\">\n",
       "  <thead>\n",
       "    <tr style=\"text-align: right;\">\n",
       "      <th></th>\n",
       "      <th>encounter_id</th>\n",
       "      <th>patient_nbr</th>\n",
       "    </tr>\n",
       "  </thead>\n",
       "  <tbody>\n",
       "    <tr>\n",
       "      <th>count</th>\n",
       "      <td>1.017660e+05</td>\n",
       "      <td>1.017660e+05</td>\n",
       "    </tr>\n",
       "    <tr>\n",
       "      <th>mean</th>\n",
       "      <td>1.652016e+08</td>\n",
       "      <td>5.433040e+07</td>\n",
       "    </tr>\n",
       "    <tr>\n",
       "      <th>std</th>\n",
       "      <td>1.026403e+08</td>\n",
       "      <td>3.869636e+07</td>\n",
       "    </tr>\n",
       "    <tr>\n",
       "      <th>min</th>\n",
       "      <td>1.252200e+04</td>\n",
       "      <td>1.350000e+02</td>\n",
       "    </tr>\n",
       "    <tr>\n",
       "      <th>25%</th>\n",
       "      <td>8.496119e+07</td>\n",
       "      <td>2.341322e+07</td>\n",
       "    </tr>\n",
       "    <tr>\n",
       "      <th>50%</th>\n",
       "      <td>1.523890e+08</td>\n",
       "      <td>4.550514e+07</td>\n",
       "    </tr>\n",
       "    <tr>\n",
       "      <th>75%</th>\n",
       "      <td>2.302709e+08</td>\n",
       "      <td>8.754595e+07</td>\n",
       "    </tr>\n",
       "    <tr>\n",
       "      <th>max</th>\n",
       "      <td>4.438672e+08</td>\n",
       "      <td>1.895026e+08</td>\n",
       "    </tr>\n",
       "  </tbody>\n",
       "</table>\n",
       "</div>"
      ],
      "text/plain": [
       "       encounter_id   patient_nbr\n",
       "count  1.017660e+05  1.017660e+05\n",
       "mean   1.652016e+08  5.433040e+07\n",
       "std    1.026403e+08  3.869636e+07\n",
       "min    1.252200e+04  1.350000e+02\n",
       "25%    8.496119e+07  2.341322e+07\n",
       "50%    1.523890e+08  4.550514e+07\n",
       "75%    2.302709e+08  8.754595e+07\n",
       "max    4.438672e+08  1.895026e+08"
      ]
     },
     "execution_count": 59,
     "metadata": {},
     "output_type": "execute_result"
    }
   ],
   "source": [
    "patient_details.describe()"
   ]
  },
  {
   "cell_type": "code",
   "execution_count": 60,
   "metadata": {},
   "outputs": [
    {
     "name": "stdout",
     "output_type": "stream",
     "text": [
      "Caucasian          76099\n",
      "AfricanAmerican    19210\n",
      "?                   2273\n",
      "Hispanic            2037\n",
      "Other               1506\n",
      "Asian                641\n",
      "Name: race, dtype: int64\n",
      "Missing values in race : 2.2335554114340743\n"
     ]
    },
    {
     "data": {
      "text/plain": [
       "<matplotlib.axes._subplots.AxesSubplot at 0x227279c8a90>"
      ]
     },
     "execution_count": 60,
     "metadata": {},
     "output_type": "execute_result"
    },
    {
     "data": {
      "image/png": "[encoded data removed]",
      "text/plain": [
       "<Figure size 432x288 with 1 Axes>"
      ]
     },
     "metadata": {
      "needs_background": "light"
     },
     "output_type": "display_data"
    }
   ],
   "source": [
    "print(patient_details.race.value_counts())\n",
    "print('Missing values in race :',(2273/101766)*100)\n",
    "patient_details.race.value_counts().plot(kind='bar')"
   ]
  },
  {
   "cell_type": "code",
   "execution_count": 61,
   "metadata": {},
   "outputs": [
    {
     "name": "stdout",
     "output_type": "stream",
     "text": [
      "Since data is collected from US assuming that 2% missing values are caucasian race people and imputing it with caucasian\n"
     ]
    },
    {
     "data": {
      "text/plain": [
       "Caucasian          78372\n",
       "AfricanAmerican    19210\n",
       "Hispanic            2037\n",
       "Other               1506\n",
       "Asian                641\n",
       "Name: race, dtype: int64"
      ]
     },
     "execution_count": 61,
     "metadata": {},
     "output_type": "execute_result"
    }
   ],
   "source": [
    "patient_details.race.replace('?',np.nan,inplace=True) # Replacing all '?' with null values\n",
    "patient_details.race.fillna(patient_details.race.mode()[0],inplace=True) # Replacing all null values with mode\n",
    "patient_details.isnull().any() # Checking if any null values are present in the data.\n",
    "print('Since data is collected from US assuming that 2% missing values are caucasian race people and imputing it with caucasian')\n",
    "patient_details.race.value_counts()"
   ]
  },
  {
   "cell_type": "code",
   "execution_count": 62,
   "metadata": {},
   "outputs": [
    {
     "name": "stdout",
     "output_type": "stream",
     "text": [
      "Female             54708\n",
      "Male               47055\n",
      "Unknown/Invalid        3\n",
      "Name: gender, dtype: int64\n"
     ]
    },
    {
     "data": {
      "text/plain": [
       "<matplotlib.axes._subplots.AxesSubplot at 0x22725d0f748>"
      ]
     },
     "execution_count": 62,
     "metadata": {},
     "output_type": "execute_result"
    },
    {
     "data": {
      "image/png": "[encoded data removed]",
      "text/plain": [
       "<Figure size 432x288 with 1 Axes>"
      ]
     },
     "metadata": {
      "needs_background": "light"
     },
     "output_type": "display_data"
    }
   ],
   "source": [
    "print(patient_details.gender.value_counts())\n",
    "patient_details.gender.value_counts().plot(kind='bar')"
   ]
  },
  {
   "cell_type": "code",
   "execution_count": 63,
   "metadata": {},
   "outputs": [
    {
     "name": "stdout",
     "output_type": "stream",
     "text": [
      "[70-80)     26068\n",
      "[60-70)     22483\n",
      "[50-60)     17256\n",
      "[80-90)     17197\n",
      "[40-50)      9685\n",
      "[30-40)      3775\n",
      "[90-100)     2793\n",
      "[20-30)      1657\n",
      "[10-20)       691\n",
      "[0-10)        161\n",
      "Name: age, dtype: int64\n"
     ]
    },
    {
     "data": {
      "text/plain": [
       "<matplotlib.axes._subplots.AxesSubplot at 0x22724df8630>"
      ]
     },
     "execution_count": 63,
     "metadata": {},
     "output_type": "execute_result"
    },
    {
     "data": {
      "image/png": "[encoded data removed]",
      "text/plain": [
       "<Figure size 432x288 with 1 Axes>"
      ]
     },
     "metadata": {
      "needs_background": "light"
     },
     "output_type": "display_data"
    }
   ],
   "source": [
    "print(patient_details.age.value_counts())\n",
    "patient_details.age.value_counts().plot(kind='bar')"
   ]
  },
  {
   "cell_type": "code",
   "execution_count": 64,
   "metadata": {},
   "outputs": [
    {
     "name": "stdout",
     "output_type": "stream",
     "text": [
      "?            98569\n",
      "[75-100)      1336\n",
      "[50-75)        897\n",
      "[100-125)      625\n",
      "[125-150)      145\n",
      "[25-50)         97\n",
      "[0-25)          48\n",
      "[150-175)       35\n",
      "[175-200)       11\n",
      ">200             3\n",
      "Name: weight, dtype: int64\n",
      "Missing Values in weight: 96.85847925633315\n"
     ]
    }
   ],
   "source": [
    "print(patient_details.weight.value_counts())\n",
    "print('Missing Values in weight:',(98569/101766)*100)"
   ]
  },
  {
   "cell_type": "markdown",
   "metadata": {},
   "source": [
    "Since weight column has almost 97% missing values and weight is given as bins,if the data has missing values greater than 50% generally its better to drop the variable because imputation of values(>50%) may show wrong results."
   ]
  },
  {
   "cell_type": "code",
   "execution_count": 108,
   "metadata": {},
   "outputs": [
    {
     "data": {
      "text/html": [
       "<div>\n",
       "<style scoped>\n",
       "    .dataframe tbody tr th:only-of-type {\n",
       "        vertical-align: middle;\n",
       "    }\n",
       "\n",
       "    .dataframe tbody tr th {\n",
       "        vertical-align: top;\n",
       "    }\n",
       "\n",
       "    .dataframe thead th {\n",
       "        text-align: right;\n",
       "    }\n",
       "</style>\n",
       "<table border=\"1\" class=\"dataframe\">\n",
       "  <thead>\n",
       "    <tr style=\"text-align: right;\">\n",
       "      <th></th>\n",
       "      <th>patient_nbr</th>\n",
       "      <th>diag_1</th>\n",
       "      <th>diag_2</th>\n",
       "      <th>diag_3</th>\n",
       "      <th>number_diagnoses</th>\n",
       "    </tr>\n",
       "  </thead>\n",
       "  <tbody>\n",
       "    <tr>\n",
       "      <th>0</th>\n",
       "      <td>8222157</td>\n",
       "      <td>250.83</td>\n",
       "      <td>?</td>\n",
       "      <td>?</td>\n",
       "      <td>1</td>\n",
       "    </tr>\n",
       "    <tr>\n",
       "      <th>1</th>\n",
       "      <td>55629189</td>\n",
       "      <td>276</td>\n",
       "      <td>250.01</td>\n",
       "      <td>255</td>\n",
       "      <td>9</td>\n",
       "    </tr>\n",
       "    <tr>\n",
       "      <th>2</th>\n",
       "      <td>86047875</td>\n",
       "      <td>648</td>\n",
       "      <td>250</td>\n",
       "      <td>V27</td>\n",
       "      <td>6</td>\n",
       "    </tr>\n",
       "    <tr>\n",
       "      <th>3</th>\n",
       "      <td>82442376</td>\n",
       "      <td>8</td>\n",
       "      <td>250.43</td>\n",
       "      <td>403</td>\n",
       "      <td>7</td>\n",
       "    </tr>\n",
       "    <tr>\n",
       "      <th>4</th>\n",
       "      <td>42519267</td>\n",
       "      <td>197</td>\n",
       "      <td>157</td>\n",
       "      <td>250</td>\n",
       "      <td>5</td>\n",
       "    </tr>\n",
       "  </tbody>\n",
       "</table>\n",
       "</div>"
      ],
      "text/plain": [
       "   patient_nbr  diag_1  diag_2 diag_3  number_diagnoses\n",
       "0      8222157  250.83       ?      ?                 1\n",
       "1     55629189     276  250.01    255                 9\n",
       "2     86047875     648     250    V27                 6\n",
       "3     82442376       8  250.43    403                 7\n",
       "4     42519267     197     157    250                 5"
      ]
     },
     "execution_count": 108,
     "metadata": {},
     "output_type": "execute_result"
    }
   ],
   "source": [
    "Diagnosis_session = pd.read_excel(\"C://Users//hp//Downloads//Diagnosis_session.xlsx\")\n",
    "Diagnosis_session.head()"
   ]
  },
  {
   "cell_type": "code",
   "execution_count": 109,
   "metadata": {},
   "outputs": [
    {
     "name": "stdout",
     "output_type": "stream",
     "text": [
      "<class 'pandas.core.frame.DataFrame'>\n",
      "RangeIndex: 101766 entries, 0 to 101765\n",
      "Data columns (total 5 columns):\n",
      "patient_nbr         101766 non-null int64\n",
      "diag_1              101766 non-null object\n",
      "diag_2              101766 non-null object\n",
      "diag_3              101766 non-null object\n",
      "number_diagnoses    101766 non-null int64\n",
      "dtypes: int64(2), object(3)\n",
      "memory usage: 3.9+ MB\n"
     ]
    }
   ],
   "source": [
    "Diagnosis_session.info()"
   ]
  },
  {
   "cell_type": "markdown",
   "metadata": {},
   "source": [
    "From the above data the attributes diag_1,diag_2,diag_3 are codes of treatments given to a patient for each encounter.\n",
    "Number_diagnosis attributes gives the information about number of diagnosis taken each paient.v"
   ]
  },
  {
   "cell_type": "code",
   "execution_count": null,
   "metadata": {},
   "outputs": [],
   "source": []
  },
  {
   "cell_type": "code",
   "execution_count": null,
   "metadata": {},
   "outputs": [],
   "source": []
  },
  {
   "cell_type": "code",
   "execution_count": 67,
   "metadata": {},
   "outputs": [
    {
     "data": {
      "text/html": [
       "<div>\n",
       "<style scoped>\n",
       "    .dataframe tbody tr th:only-of-type {\n",
       "        vertical-align: middle;\n",
       "    }\n",
       "\n",
       "    .dataframe tbody tr th {\n",
       "        vertical-align: top;\n",
       "    }\n",
       "\n",
       "    .dataframe thead th {\n",
       "        text-align: right;\n",
       "    }\n",
       "</style>\n",
       "<table border=\"1\" class=\"dataframe\">\n",
       "  <thead>\n",
       "    <tr style=\"text-align: right;\">\n",
       "      <th></th>\n",
       "      <th>patient_nbr</th>\n",
       "      <th>admission_type_id</th>\n",
       "      <th>discharge_disposition_id</th>\n",
       "      <th>admission_source_id</th>\n",
       "      <th>time_in_hospital</th>\n",
       "      <th>payer_code</th>\n",
       "      <th>medical_specialty</th>\n",
       "    </tr>\n",
       "  </thead>\n",
       "  <tbody>\n",
       "    <tr>\n",
       "      <th>0</th>\n",
       "      <td>8222157</td>\n",
       "      <td>6</td>\n",
       "      <td>25</td>\n",
       "      <td>1</td>\n",
       "      <td>1</td>\n",
       "      <td>?</td>\n",
       "      <td>Pediatrics-Endocrinology</td>\n",
       "    </tr>\n",
       "    <tr>\n",
       "      <th>1</th>\n",
       "      <td>55629189</td>\n",
       "      <td>1</td>\n",
       "      <td>1</td>\n",
       "      <td>7</td>\n",
       "      <td>3</td>\n",
       "      <td>?</td>\n",
       "      <td>?</td>\n",
       "    </tr>\n",
       "    <tr>\n",
       "      <th>2</th>\n",
       "      <td>86047875</td>\n",
       "      <td>1</td>\n",
       "      <td>1</td>\n",
       "      <td>7</td>\n",
       "      <td>2</td>\n",
       "      <td>?</td>\n",
       "      <td>?</td>\n",
       "    </tr>\n",
       "    <tr>\n",
       "      <th>3</th>\n",
       "      <td>82442376</td>\n",
       "      <td>1</td>\n",
       "      <td>1</td>\n",
       "      <td>7</td>\n",
       "      <td>2</td>\n",
       "      <td>?</td>\n",
       "      <td>?</td>\n",
       "    </tr>\n",
       "    <tr>\n",
       "      <th>4</th>\n",
       "      <td>42519267</td>\n",
       "      <td>1</td>\n",
       "      <td>1</td>\n",
       "      <td>7</td>\n",
       "      <td>1</td>\n",
       "      <td>?</td>\n",
       "      <td>?</td>\n",
       "    </tr>\n",
       "  </tbody>\n",
       "</table>\n",
       "</div>"
      ],
      "text/plain": [
       "   patient_nbr  admission_type_id  discharge_disposition_id  \\\n",
       "0      8222157                  6                        25   \n",
       "1     55629189                  1                         1   \n",
       "2     86047875                  1                         1   \n",
       "3     82442376                  1                         1   \n",
       "4     42519267                  1                         1   \n",
       "\n",
       "   admission_source_id  time_in_hospital payer_code         medical_specialty  \n",
       "0                    1                 1          ?  Pediatrics-Endocrinology  \n",
       "1                    7                 3          ?                         ?  \n",
       "2                    7                 2          ?                         ?  \n",
       "3                    7                 2          ?                         ?  \n",
       "4                    7                 1          ?                         ?  "
      ]
     },
     "execution_count": 67,
     "metadata": {},
     "output_type": "execute_result"
    }
   ],
   "source": [
    "admission_details = pd.read_excel('C://Users//hp//Downloads//admission_details.xlsx') #admission details\n",
    "admission_details.head()"
   ]
  },
  {
   "cell_type": "code",
   "execution_count": 68,
   "metadata": {},
   "outputs": [
    {
     "name": "stdout",
     "output_type": "stream",
     "text": [
      "<class 'pandas.core.frame.DataFrame'>\n",
      "RangeIndex: 101766 entries, 0 to 101765\n",
      "Data columns (total 7 columns):\n",
      "patient_nbr                 101766 non-null int64\n",
      "admission_type_id           101766 non-null int64\n",
      "discharge_disposition_id    101766 non-null int64\n",
      "admission_source_id         101766 non-null int64\n",
      "time_in_hospital            101766 non-null int64\n",
      "payer_code                  101766 non-null object\n",
      "medical_specialty           101766 non-null object\n",
      "dtypes: int64(5), object(2)\n",
      "memory usage: 5.4+ MB\n"
     ]
    }
   ],
   "source": [
    "admission_details.info()"
   ]
  },
  {
   "cell_type": "markdown",
   "metadata": {},
   "source": [
    "# admission_type_id : Integer identifier corresponding to 9 distinct values, for example, emergency, urgent, elective, newborn, and not available i.e which says how patient admitted into hospital.\n",
    "# discharge_disposition_id : Integer identifier corresponding to 29 distinct values, for example, discharged to home, expired, and not available i.e which says that how a patient is discharged from the hospital.\n",
    "# admission_source_id : Integer identifier corresponding to 21 distinct values, for example, physician referral, emergency room, and transfer from a hospital i.e from where patient got admitted into the hospital.\n",
    "# time_in_hospital : number of days between admission and discharge\n",
    "# medical_speciality : identifier of a specialty of the admitting physician, corresponding to 84 distinct values, for example, cardiology, internal medicine, family\\general practice, and surgeon"
   ]
  },
  {
   "cell_type": "code",
   "execution_count": 69,
   "metadata": {},
   "outputs": [
    {
     "name": "stdout",
     "output_type": "stream",
     "text": [
      "1    53990\n",
      "3    18869\n",
      "2    18480\n",
      "6     5291\n",
      "5     4785\n",
      "8      320\n",
      "7       21\n",
      "4       10\n",
      "Name: admission_type_id, dtype: int64\n"
     ]
    },
    {
     "data": {
      "text/plain": [
       "<matplotlib.axes._subplots.AxesSubplot at 0x227268f6668>"
      ]
     },
     "execution_count": 69,
     "metadata": {},
     "output_type": "execute_result"
    },
    {
     "data": {
      "image/png": "[encoded data removed]",
      "text/plain": [
       "<Figure size 432x288 with 1 Axes>"
      ]
     },
     "metadata": {
      "needs_background": "light"
     },
     "output_type": "display_data"
    }
   ],
   "source": [
    "print(admission_details.admission_type_id.value_counts())\n",
    "admission_details.admission_type_id.value_counts().plot(kind='bar')\n"
   ]
  },
  {
   "cell_type": "markdown",
   "metadata": {},
   "source": [
    "53990 out of 101766 patients are admitting into the hospitals with admission type as 1\n",
    "37,000 out of 101766 patients are admitting into the hospitals with admission type as 2 and 3"
   ]
  },
  {
   "cell_type": "code",
   "execution_count": 70,
   "metadata": {},
   "outputs": [
    {
     "name": "stdout",
     "output_type": "stream",
     "text": [
      "1     60234\n",
      "3     13954\n",
      "6     12902\n",
      "18     3691\n",
      "2      2128\n",
      "22     1993\n",
      "11     1642\n",
      "5      1184\n",
      "25      989\n",
      "4       815\n",
      "7       623\n",
      "23      412\n",
      "13      399\n",
      "14      372\n",
      "28      139\n",
      "8       108\n",
      "15       63\n",
      "24       48\n",
      "9        21\n",
      "17       14\n",
      "16       11\n",
      "19        8\n",
      "10        6\n",
      "27        5\n",
      "12        3\n",
      "20        2\n",
      "Name: discharge_disposition_id, dtype: int64\n"
     ]
    }
   ],
   "source": [
    "print(admission_details.discharge_disposition_id.value_counts())"
   ]
  },
  {
   "cell_type": "code",
   "execution_count": 71,
   "metadata": {},
   "outputs": [
    {
     "name": "stdout",
     "output_type": "stream",
     "text": [
      "AxesSubplot(0.125,0.125;0.775x0.755)\n"
     ]
    },
    {
     "data": {
      "image/png": "[encoded data removed]",
      "text/plain": [
       "<Figure size 432x288 with 1 Axes>"
      ]
     },
     "metadata": {
      "needs_background": "light"
     },
     "output_type": "display_data"
    }
   ],
   "source": [
    "print(admission_details.discharge_disposition_id.value_counts().plot(kind='bar'))"
   ]
  },
  {
   "cell_type": "markdown",
   "metadata": {},
   "source": [
    "From the above bar chart it is witnessed that 60% of patients are \"discharged to home\" which is indicated as disposition id 1.\n",
    "Similarly disposition id 2 indicates discharged/transferred to another short term hospital.\n",
    "Disposition id 3 indicates Discharged/transferred to SNF."
   ]
  },
  {
   "cell_type": "code",
   "execution_count": 87,
   "metadata": {},
   "outputs": [
    {
     "name": "stdout",
     "output_type": "stream",
     "text": [
      "?     40256\n",
      "MC    32439\n",
      "HM     6274\n",
      "SP     5007\n",
      "BC     4655\n",
      "MD     3532\n",
      "CP     2533\n",
      "UN     2448\n",
      "CM     1937\n",
      "OG     1033\n",
      "PO      592\n",
      "DM      549\n",
      "CH      146\n",
      "WC      135\n",
      "OT       95\n",
      "MP       79\n",
      "SI       55\n",
      "FR        1\n",
      "Name: payer_code, dtype: int64\n",
      "Missing Values in payer code : 39.5574160328597\n"
     ]
    }
   ],
   "source": [
    "print(admission_details.payer_code.value_counts())\n",
    "print('Missing Values in payer code :',(40256/101766)*100)"
   ]
  },
  {
   "cell_type": "code",
   "execution_count": 88,
   "metadata": {},
   "outputs": [
    {
     "name": "stdout",
     "output_type": "stream",
     "text": [
      "?                                    49949\n",
      "InternalMedicine                     14635\n",
      "Emergency/Trauma                      7565\n",
      "Family/GeneralPractice                7440\n",
      "Cardiology                            5352\n",
      "Surgery-General                       3099\n",
      "Nephrology                            1613\n",
      "Orthopedics                           1400\n",
      "Orthopedics-Reconstructive            1233\n",
      "Radiologist                           1140\n",
      "Pulmonology                            871\n",
      "Psychiatry                             854\n",
      "Urology                                685\n",
      "ObstetricsandGynecology                671\n",
      "Surgery-Cardiovascular/Thoracic        652\n",
      "Gastroenterology                       564\n",
      "Surgery-Vascular                       533\n",
      "Surgery-Neuro                          468\n",
      "PhysicalMedicineandRehabilitation      391\n",
      "Oncology                               348\n",
      "Pediatrics                             254\n",
      "Hematology/Oncology                    207\n",
      "Neurology                              203\n",
      "Pediatrics-Endocrinology               159\n",
      "Otolaryngology                         125\n",
      "Endocrinology                          120\n",
      "Surgery-Thoracic                       109\n",
      "Psychology                             101\n",
      "Podiatry                               100\n",
      "Surgery-Cardiovascular                  98\n",
      "                                     ...  \n",
      "Anesthesiology-Pediatric                19\n",
      "Obstetrics                              19\n",
      "Pathology                               17\n",
      "Rheumatology                            17\n",
      "OutreachServices                        12\n",
      "Anesthesiology                          12\n",
      "Surgery-Colon&Rectal                    11\n",
      "PhysicianNotFound                       11\n",
      "Surgery-Maxillofacial                   11\n",
      "Pediatrics-Neurology                    10\n",
      "Endocrinology-Metabolism                 8\n",
      "Surgery-Pediatric                        8\n",
      "Cardiology-Pediatric                     7\n",
      "AllergyandImmunology                     7\n",
      "Psychiatry-Child/Adolescent              7\n",
      "DCPTEAM                                  6\n",
      "Pediatrics-Hematology-Oncology           4\n",
      "Dentistry                                4\n",
      "Pediatrics-AllergyandImmunology          3\n",
      "Pediatrics-EmergencyMedicine             3\n",
      "Resident                                 2\n",
      "Proctology                               1\n",
      "Speech                                   1\n",
      "Surgery-PlasticwithinHeadandNeck         1\n",
      "Neurophysiology                          1\n",
      "Psychiatry-Addictive                     1\n",
      "SportsMedicine                           1\n",
      "Pediatrics-InfectiousDiseases            1\n",
      "Perinatology                             1\n",
      "Dermatology                              1\n",
      "Name: medical_specialty, Length: 73, dtype: int64\n"
     ]
    }
   ],
   "source": [
    "print(admission_details.medical_specialty.value_counts())"
   ]
  },
  {
   "cell_type": "code",
   "execution_count": 89,
   "metadata": {},
   "outputs": [
    {
     "name": "stdout",
     "output_type": "stream",
     "text": [
      "Missing Values in payer code : 49.08220820313268\n"
     ]
    }
   ],
   "source": [
    "\n",
    "print('Missing Values in payer code :',(49949/101766)*100)"
   ]
  },
  {
   "cell_type": "code",
   "execution_count": 90,
   "metadata": {},
   "outputs": [
    {
     "data": {
      "text/html": [
       "<div>\n",
       "<style scoped>\n",
       "    .dataframe tbody tr th:only-of-type {\n",
       "        vertical-align: middle;\n",
       "    }\n",
       "\n",
       "    .dataframe tbody tr th {\n",
       "        vertical-align: top;\n",
       "    }\n",
       "\n",
       "    .dataframe thead th {\n",
       "        text-align: right;\n",
       "    }\n",
       "</style>\n",
       "<table border=\"1\" class=\"dataframe\">\n",
       "  <thead>\n",
       "    <tr style=\"text-align: right;\">\n",
       "      <th></th>\n",
       "      <th>encounter_id</th>\n",
       "      <th>max_glu_serum</th>\n",
       "      <th>A1Cresult</th>\n",
       "      <th>metformin</th>\n",
       "      <th>repaglinide</th>\n",
       "      <th>nateglinide</th>\n",
       "      <th>chlorpropamide</th>\n",
       "      <th>glimepiride</th>\n",
       "      <th>acetohexamide</th>\n",
       "      <th>glipizide</th>\n",
       "      <th>...</th>\n",
       "      <th>citoglipton</th>\n",
       "      <th>insulin</th>\n",
       "      <th>glyburide-metformin</th>\n",
       "      <th>glipizide-metformin</th>\n",
       "      <th>glimepiride-pioglitazone</th>\n",
       "      <th>metformin-rosiglitazone</th>\n",
       "      <th>metformin-pioglitazone</th>\n",
       "      <th>change</th>\n",
       "      <th>diabetesMed</th>\n",
       "      <th>readmitted</th>\n",
       "    </tr>\n",
       "  </thead>\n",
       "  <tbody>\n",
       "    <tr>\n",
       "      <th>0</th>\n",
       "      <td>2278392</td>\n",
       "      <td>None</td>\n",
       "      <td>None</td>\n",
       "      <td>No</td>\n",
       "      <td>No</td>\n",
       "      <td>No</td>\n",
       "      <td>No</td>\n",
       "      <td>No</td>\n",
       "      <td>No</td>\n",
       "      <td>No</td>\n",
       "      <td>...</td>\n",
       "      <td>No</td>\n",
       "      <td>No</td>\n",
       "      <td>No</td>\n",
       "      <td>No</td>\n",
       "      <td>No</td>\n",
       "      <td>No</td>\n",
       "      <td>No</td>\n",
       "      <td>No</td>\n",
       "      <td>No</td>\n",
       "      <td>NO</td>\n",
       "    </tr>\n",
       "    <tr>\n",
       "      <th>1</th>\n",
       "      <td>149190</td>\n",
       "      <td>None</td>\n",
       "      <td>None</td>\n",
       "      <td>No</td>\n",
       "      <td>No</td>\n",
       "      <td>No</td>\n",
       "      <td>No</td>\n",
       "      <td>No</td>\n",
       "      <td>No</td>\n",
       "      <td>No</td>\n",
       "      <td>...</td>\n",
       "      <td>No</td>\n",
       "      <td>Up</td>\n",
       "      <td>No</td>\n",
       "      <td>No</td>\n",
       "      <td>No</td>\n",
       "      <td>No</td>\n",
       "      <td>No</td>\n",
       "      <td>Ch</td>\n",
       "      <td>Yes</td>\n",
       "      <td>&gt;30</td>\n",
       "    </tr>\n",
       "    <tr>\n",
       "      <th>2</th>\n",
       "      <td>64410</td>\n",
       "      <td>None</td>\n",
       "      <td>None</td>\n",
       "      <td>No</td>\n",
       "      <td>No</td>\n",
       "      <td>No</td>\n",
       "      <td>No</td>\n",
       "      <td>No</td>\n",
       "      <td>No</td>\n",
       "      <td>Steady</td>\n",
       "      <td>...</td>\n",
       "      <td>No</td>\n",
       "      <td>No</td>\n",
       "      <td>No</td>\n",
       "      <td>No</td>\n",
       "      <td>No</td>\n",
       "      <td>No</td>\n",
       "      <td>No</td>\n",
       "      <td>No</td>\n",
       "      <td>Yes</td>\n",
       "      <td>NO</td>\n",
       "    </tr>\n",
       "    <tr>\n",
       "      <th>3</th>\n",
       "      <td>500364</td>\n",
       "      <td>None</td>\n",
       "      <td>None</td>\n",
       "      <td>No</td>\n",
       "      <td>No</td>\n",
       "      <td>No</td>\n",
       "      <td>No</td>\n",
       "      <td>No</td>\n",
       "      <td>No</td>\n",
       "      <td>No</td>\n",
       "      <td>...</td>\n",
       "      <td>No</td>\n",
       "      <td>Up</td>\n",
       "      <td>No</td>\n",
       "      <td>No</td>\n",
       "      <td>No</td>\n",
       "      <td>No</td>\n",
       "      <td>No</td>\n",
       "      <td>Ch</td>\n",
       "      <td>Yes</td>\n",
       "      <td>NO</td>\n",
       "    </tr>\n",
       "    <tr>\n",
       "      <th>4</th>\n",
       "      <td>16680</td>\n",
       "      <td>None</td>\n",
       "      <td>None</td>\n",
       "      <td>No</td>\n",
       "      <td>No</td>\n",
       "      <td>No</td>\n",
       "      <td>No</td>\n",
       "      <td>No</td>\n",
       "      <td>No</td>\n",
       "      <td>Steady</td>\n",
       "      <td>...</td>\n",
       "      <td>No</td>\n",
       "      <td>Steady</td>\n",
       "      <td>No</td>\n",
       "      <td>No</td>\n",
       "      <td>No</td>\n",
       "      <td>No</td>\n",
       "      <td>No</td>\n",
       "      <td>Ch</td>\n",
       "      <td>Yes</td>\n",
       "      <td>NO</td>\n",
       "    </tr>\n",
       "  </tbody>\n",
       "</table>\n",
       "<p>5 rows × 29 columns</p>\n",
       "</div>"
      ],
      "text/plain": [
       "   encounter_id max_glu_serum A1Cresult metformin repaglinide nateglinide  \\\n",
       "0       2278392          None      None        No          No          No   \n",
       "1        149190          None      None        No          No          No   \n",
       "2         64410          None      None        No          No          No   \n",
       "3        500364          None      None        No          No          No   \n",
       "4         16680          None      None        No          No          No   \n",
       "\n",
       "  chlorpropamide glimepiride acetohexamide glipizide  ... citoglipton insulin  \\\n",
       "0             No          No            No        No  ...          No      No   \n",
       "1             No          No            No        No  ...          No      Up   \n",
       "2             No          No            No    Steady  ...          No      No   \n",
       "3             No          No            No        No  ...          No      Up   \n",
       "4             No          No            No    Steady  ...          No  Steady   \n",
       "\n",
       "  glyburide-metformin glipizide-metformin glimepiride-pioglitazone  \\\n",
       "0                  No                  No                       No   \n",
       "1                  No                  No                       No   \n",
       "2                  No                  No                       No   \n",
       "3                  No                  No                       No   \n",
       "4                  No                  No                       No   \n",
       "\n",
       "  metformin-rosiglitazone metformin-pioglitazone change diabetesMed readmitted  \n",
       "0                      No                     No     No          No         NO  \n",
       "1                      No                     No     Ch         Yes        >30  \n",
       "2                      No                     No     No         Yes         NO  \n",
       "3                      No                     No     Ch         Yes         NO  \n",
       "4                      No                     No     Ch         Yes         NO  \n",
       "\n",
       "[5 rows x 29 columns]"
      ]
     },
     "execution_count": 90,
     "metadata": {},
     "output_type": "execute_result"
    }
   ],
   "source": [
    "diabetic_data = pd.read_csv('C://Users//hp//Downloads//diabetic_data.csv')\n",
    "diabetic_data.head()"
   ]
  },
  {
   "cell_type": "code",
   "execution_count": 91,
   "metadata": {},
   "outputs": [
    {
     "name": "stdout",
     "output_type": "stream",
     "text": [
      "<class 'pandas.core.frame.DataFrame'>\n",
      "RangeIndex: 101766 entries, 0 to 101765\n",
      "Data columns (total 29 columns):\n",
      "encounter_id                101766 non-null int64\n",
      "max_glu_serum               101766 non-null object\n",
      "A1Cresult                   101766 non-null object\n",
      "metformin                   101766 non-null object\n",
      "repaglinide                 101766 non-null object\n",
      "nateglinide                 101766 non-null object\n",
      "chlorpropamide              101766 non-null object\n",
      "glimepiride                 101766 non-null object\n",
      "acetohexamide               101766 non-null object\n",
      "glipizide                   101766 non-null object\n",
      "glyburide                   101766 non-null object\n",
      "tolbutamide                 101766 non-null object\n",
      "pioglitazone                101766 non-null object\n",
      "rosiglitazone               101766 non-null object\n",
      "acarbose                    101766 non-null object\n",
      "miglitol                    101766 non-null object\n",
      "troglitazone                101766 non-null object\n",
      "tolazamide                  101766 non-null object\n",
      "examide                     101766 non-null object\n",
      "citoglipton                 101766 non-null object\n",
      "insulin                     101766 non-null object\n",
      "glyburide-metformin         101766 non-null object\n",
      "glipizide-metformin         101766 non-null object\n",
      "glimepiride-pioglitazone    101766 non-null object\n",
      "metformin-rosiglitazone     101766 non-null object\n",
      "metformin-pioglitazone      101766 non-null object\n",
      "change                      101766 non-null object\n",
      "diabetesMed                 101766 non-null object\n",
      "readmitted                  101766 non-null object\n",
      "dtypes: int64(1), object(28)\n",
      "memory usage: 22.5+ MB\n"
     ]
    }
   ],
   "source": [
    "diabetic_data.info()"
   ]
  },
  {
   "cell_type": "markdown",
   "metadata": {},
   "source": [
    "\n",
    "The above diabetic Data says about different types of drugs used to treat the patients which consists of four values No,Steady,Up,Down which indicate dosage of drug given to a patient and No indicate drug is not given to the patient.\n",
    "Two attributes which indicates the tests taken by each patient they are max_glu_selrum test and A1c result.\n",
    "Change : This attribute indicates two values ch,No Ch indicates if there is any change in medication.\n",
    "Diabetes Med: This attribute has two values Yes,No which says that a patient is given any medication for diabeties or not.\n",
    "Readmission : This attribute tell us about wheather a patient is readmitting into the hospital.\n",
    "# Creating new attribute which helps us to identify type of treatment given to each patient"
   ]
  },
  {
   "cell_type": "code",
   "execution_count": 92,
   "metadata": {},
   "outputs": [
    {
     "name": "stdout",
     "output_type": "stream",
     "text": [
      "1    47314\n",
      "0    23403\n",
      "2    21873\n",
      "3     7778\n",
      "4     1335\n",
      "5       58\n",
      "6        5\n",
      "dtype: int64\n"
     ]
    }
   ],
   "source": [
    "treat=diabetic_data.iloc[:,3:26].replace(['Steady','Up','Down','No'],[1,1,1,0])\n",
    "treat.set_index(diabetic_data.encounter_id,inplace=True)\n",
    "print(treat.sum(axis=1).value_counts())"
   ]
  },
  {
   "cell_type": "markdown",
   "metadata": {},
   "source": [
    "From the above we can infer combination of drugs given to the patient as a part of treatment.\n",
    "#Intrestingly we can see that only few patients have given more combination of drugs."
   ]
  },
  {
   "cell_type": "code",
   "execution_count": 93,
   "metadata": {},
   "outputs": [
    {
     "name": "stdout",
     "output_type": "stream",
     "text": [
      "insulin based treatments  1    30965\n",
      "2    15437\n",
      "3     6625\n",
      "4     1295\n",
      "5       57\n",
      "6        4\n",
      "dtype: int64\n",
      "insulin is not used for treating diabeties 0    23403\n",
      "1    16349\n",
      "2     6436\n",
      "3     1153\n",
      "4       40\n",
      "6        1\n",
      "5        1\n",
      "dtype: int64\n"
     ]
    }
   ],
   "source": [
    "print('insulin based treatments ',treat[treat['insulin']==1].sum(axis=1).value_counts())\n",
    "\n",
    "print('insulin is not used for treating diabeties',treat[treat['insulin']==0].sum(axis=1).value_counts())"
   ]
  },
  {
   "cell_type": "code",
   "execution_count": 94,
   "metadata": {},
   "outputs": [],
   "source": [
    "i_p=treat[treat['insulin']==1].sum(axis=1).replace([1,2,3,4,5,6],['insulin','io','io','io','io','io'])\n",
    "i_a=treat[treat['insulin']==0].sum(axis=1).replace([0,1,2,3,4,5,6],['NoMed','other','other','other','other','other','other'])\n",
    "treatments=pd.concat([i_p,i_a])\n",
    "treatments = pd.DataFrame({'treatments':treatments})"
   ]
  },
  {
   "cell_type": "code",
   "execution_count": 95,
   "metadata": {},
   "outputs": [
    {
     "data": {
      "text/html": [
       "<div>\n",
       "<style scoped>\n",
       "    .dataframe tbody tr th:only-of-type {\n",
       "        vertical-align: middle;\n",
       "    }\n",
       "\n",
       "    .dataframe tbody tr th {\n",
       "        vertical-align: top;\n",
       "    }\n",
       "\n",
       "    .dataframe thead th {\n",
       "        text-align: right;\n",
       "    }\n",
       "</style>\n",
       "<table border=\"1\" class=\"dataframe\">\n",
       "  <thead>\n",
       "    <tr style=\"text-align: right;\">\n",
       "      <th></th>\n",
       "      <th>encounter_id</th>\n",
       "      <th>max_glu_serum</th>\n",
       "      <th>A1Cresult</th>\n",
       "      <th>metformin</th>\n",
       "      <th>repaglinide</th>\n",
       "      <th>nateglinide</th>\n",
       "      <th>chlorpropamide</th>\n",
       "      <th>glimepiride</th>\n",
       "      <th>acetohexamide</th>\n",
       "      <th>glipizide</th>\n",
       "      <th>...</th>\n",
       "      <th>insulin</th>\n",
       "      <th>glyburide-metformin</th>\n",
       "      <th>glipizide-metformin</th>\n",
       "      <th>glimepiride-pioglitazone</th>\n",
       "      <th>metformin-rosiglitazone</th>\n",
       "      <th>metformin-pioglitazone</th>\n",
       "      <th>change</th>\n",
       "      <th>diabetesMed</th>\n",
       "      <th>readmitted</th>\n",
       "      <th>treatments</th>\n",
       "    </tr>\n",
       "  </thead>\n",
       "  <tbody>\n",
       "    <tr>\n",
       "      <th>0</th>\n",
       "      <td>2278392</td>\n",
       "      <td>None</td>\n",
       "      <td>None</td>\n",
       "      <td>No</td>\n",
       "      <td>No</td>\n",
       "      <td>No</td>\n",
       "      <td>No</td>\n",
       "      <td>No</td>\n",
       "      <td>No</td>\n",
       "      <td>No</td>\n",
       "      <td>...</td>\n",
       "      <td>No</td>\n",
       "      <td>No</td>\n",
       "      <td>No</td>\n",
       "      <td>No</td>\n",
       "      <td>No</td>\n",
       "      <td>No</td>\n",
       "      <td>No</td>\n",
       "      <td>No</td>\n",
       "      <td>NO</td>\n",
       "      <td>NoMed</td>\n",
       "    </tr>\n",
       "    <tr>\n",
       "      <th>1</th>\n",
       "      <td>149190</td>\n",
       "      <td>None</td>\n",
       "      <td>None</td>\n",
       "      <td>No</td>\n",
       "      <td>No</td>\n",
       "      <td>No</td>\n",
       "      <td>No</td>\n",
       "      <td>No</td>\n",
       "      <td>No</td>\n",
       "      <td>No</td>\n",
       "      <td>...</td>\n",
       "      <td>Up</td>\n",
       "      <td>No</td>\n",
       "      <td>No</td>\n",
       "      <td>No</td>\n",
       "      <td>No</td>\n",
       "      <td>No</td>\n",
       "      <td>Ch</td>\n",
       "      <td>Yes</td>\n",
       "      <td>&gt;30</td>\n",
       "      <td>insulin</td>\n",
       "    </tr>\n",
       "    <tr>\n",
       "      <th>2</th>\n",
       "      <td>64410</td>\n",
       "      <td>None</td>\n",
       "      <td>None</td>\n",
       "      <td>No</td>\n",
       "      <td>No</td>\n",
       "      <td>No</td>\n",
       "      <td>No</td>\n",
       "      <td>No</td>\n",
       "      <td>No</td>\n",
       "      <td>Steady</td>\n",
       "      <td>...</td>\n",
       "      <td>No</td>\n",
       "      <td>No</td>\n",
       "      <td>No</td>\n",
       "      <td>No</td>\n",
       "      <td>No</td>\n",
       "      <td>No</td>\n",
       "      <td>No</td>\n",
       "      <td>Yes</td>\n",
       "      <td>NO</td>\n",
       "      <td>other</td>\n",
       "    </tr>\n",
       "    <tr>\n",
       "      <th>3</th>\n",
       "      <td>500364</td>\n",
       "      <td>None</td>\n",
       "      <td>None</td>\n",
       "      <td>No</td>\n",
       "      <td>No</td>\n",
       "      <td>No</td>\n",
       "      <td>No</td>\n",
       "      <td>No</td>\n",
       "      <td>No</td>\n",
       "      <td>No</td>\n",
       "      <td>...</td>\n",
       "      <td>Up</td>\n",
       "      <td>No</td>\n",
       "      <td>No</td>\n",
       "      <td>No</td>\n",
       "      <td>No</td>\n",
       "      <td>No</td>\n",
       "      <td>Ch</td>\n",
       "      <td>Yes</td>\n",
       "      <td>NO</td>\n",
       "      <td>insulin</td>\n",
       "    </tr>\n",
       "    <tr>\n",
       "      <th>4</th>\n",
       "      <td>16680</td>\n",
       "      <td>None</td>\n",
       "      <td>None</td>\n",
       "      <td>No</td>\n",
       "      <td>No</td>\n",
       "      <td>No</td>\n",
       "      <td>No</td>\n",
       "      <td>No</td>\n",
       "      <td>No</td>\n",
       "      <td>Steady</td>\n",
       "      <td>...</td>\n",
       "      <td>Steady</td>\n",
       "      <td>No</td>\n",
       "      <td>No</td>\n",
       "      <td>No</td>\n",
       "      <td>No</td>\n",
       "      <td>No</td>\n",
       "      <td>Ch</td>\n",
       "      <td>Yes</td>\n",
       "      <td>NO</td>\n",
       "      <td>io</td>\n",
       "    </tr>\n",
       "  </tbody>\n",
       "</table>\n",
       "<p>5 rows × 30 columns</p>\n",
       "</div>"
      ],
      "text/plain": [
       "   encounter_id max_glu_serum A1Cresult metformin repaglinide nateglinide  \\\n",
       "0       2278392          None      None        No          No          No   \n",
       "1        149190          None      None        No          No          No   \n",
       "2         64410          None      None        No          No          No   \n",
       "3        500364          None      None        No          No          No   \n",
       "4         16680          None      None        No          No          No   \n",
       "\n",
       "  chlorpropamide glimepiride acetohexamide glipizide  ... insulin  \\\n",
       "0             No          No            No        No  ...      No   \n",
       "1             No          No            No        No  ...      Up   \n",
       "2             No          No            No    Steady  ...      No   \n",
       "3             No          No            No        No  ...      Up   \n",
       "4             No          No            No    Steady  ...  Steady   \n",
       "\n",
       "  glyburide-metformin glipizide-metformin glimepiride-pioglitazone  \\\n",
       "0                  No                  No                       No   \n",
       "1                  No                  No                       No   \n",
       "2                  No                  No                       No   \n",
       "3                  No                  No                       No   \n",
       "4                  No                  No                       No   \n",
       "\n",
       "  metformin-rosiglitazone metformin-pioglitazone change diabetesMed  \\\n",
       "0                      No                     No     No          No   \n",
       "1                      No                     No     Ch         Yes   \n",
       "2                      No                     No     No         Yes   \n",
       "3                      No                     No     Ch         Yes   \n",
       "4                      No                     No     Ch         Yes   \n",
       "\n",
       "  readmitted treatments  \n",
       "0         NO      NoMed  \n",
       "1        >30    insulin  \n",
       "2         NO      other  \n",
       "3         NO    insulin  \n",
       "4         NO         io  \n",
       "\n",
       "[5 rows x 30 columns]"
      ]
     },
     "execution_count": 95,
     "metadata": {},
     "output_type": "execute_result"
    }
   ],
   "source": [
    "diabetic_data=diabetic_data.join(treatments,how='inner',on='encounter_id')\n",
    "diabetic_data.head()"
   ]
  },
  {
   "cell_type": "code",
   "execution_count": 96,
   "metadata": {},
   "outputs": [],
   "source": [
    "# According to the given objective there is no varible which tells us about what kind of treatment is given to a patients but we have information of drugs given to a patients by using those 23 drug column created a new column which simply represents all 23 column information in one column named 'Treatments' (Treatment Column represents all 23 drug column information)."
   ]
  },
  {
   "cell_type": "code",
   "execution_count": 97,
   "metadata": {},
   "outputs": [],
   "source": [
    "#Dropping all drug details because all information been represented in one column which results in redundancy\n",
    "diabetic_data.drop(['metformin', 'repaglinide', 'nateglinide', 'chlorpropamide',\n",
    "       'glimepiride', 'acetohexamide', 'glipizide', 'glyburide', 'tolbutamide',\n",
    "       'pioglitazone', 'rosiglitazone', 'acarbose', 'miglitol', 'troglitazone',\n",
    "       'tolazamide', 'examide', 'citoglipton', 'insulin',\n",
    "       'glyburide-metformin', 'glipizide-metformin',\n",
    "       'glimepiride-pioglitazone', 'metformin-rosiglitazone',\n",
    "       'metformin-pioglitazone'],axis=1,inplace=True)"
   ]
  },
  {
   "cell_type": "code",
   "execution_count": 98,
   "metadata": {},
   "outputs": [
    {
     "data": {
      "text/html": [
       "<div>\n",
       "<style scoped>\n",
       "    .dataframe tbody tr th:only-of-type {\n",
       "        vertical-align: middle;\n",
       "    }\n",
       "\n",
       "    .dataframe tbody tr th {\n",
       "        vertical-align: top;\n",
       "    }\n",
       "\n",
       "    .dataframe thead th {\n",
       "        text-align: right;\n",
       "    }\n",
       "</style>\n",
       "<table border=\"1\" class=\"dataframe\">\n",
       "  <thead>\n",
       "    <tr style=\"text-align: right;\">\n",
       "      <th></th>\n",
       "      <th>encounter_id</th>\n",
       "      <th>num_lab_procedures</th>\n",
       "      <th>num_procedures</th>\n",
       "      <th>num_medications</th>\n",
       "      <th>number_outpatient</th>\n",
       "      <th>number_emergency</th>\n",
       "      <th>number_inpatient</th>\n",
       "    </tr>\n",
       "  </thead>\n",
       "  <tbody>\n",
       "    <tr>\n",
       "      <th>0</th>\n",
       "      <td>2278392</td>\n",
       "      <td>41</td>\n",
       "      <td>0</td>\n",
       "      <td>1</td>\n",
       "      <td>0</td>\n",
       "      <td>0</td>\n",
       "      <td>0</td>\n",
       "    </tr>\n",
       "    <tr>\n",
       "      <th>1</th>\n",
       "      <td>149190</td>\n",
       "      <td>59</td>\n",
       "      <td>0</td>\n",
       "      <td>18</td>\n",
       "      <td>0</td>\n",
       "      <td>0</td>\n",
       "      <td>0</td>\n",
       "    </tr>\n",
       "    <tr>\n",
       "      <th>2</th>\n",
       "      <td>64410</td>\n",
       "      <td>11</td>\n",
       "      <td>5</td>\n",
       "      <td>13</td>\n",
       "      <td>2</td>\n",
       "      <td>0</td>\n",
       "      <td>1</td>\n",
       "    </tr>\n",
       "    <tr>\n",
       "      <th>3</th>\n",
       "      <td>500364</td>\n",
       "      <td>44</td>\n",
       "      <td>1</td>\n",
       "      <td>16</td>\n",
       "      <td>0</td>\n",
       "      <td>0</td>\n",
       "      <td>0</td>\n",
       "    </tr>\n",
       "    <tr>\n",
       "      <th>4</th>\n",
       "      <td>16680</td>\n",
       "      <td>51</td>\n",
       "      <td>0</td>\n",
       "      <td>8</td>\n",
       "      <td>0</td>\n",
       "      <td>0</td>\n",
       "      <td>0</td>\n",
       "    </tr>\n",
       "  </tbody>\n",
       "</table>\n",
       "</div>"
      ],
      "text/plain": [
       "   encounter_id  num_lab_procedures  num_procedures  num_medications  \\\n",
       "0       2278392                  41               0                1   \n",
       "1        149190                  59               0               18   \n",
       "2         64410                  11               5               13   \n",
       "3        500364                  44               1               16   \n",
       "4         16680                  51               0                8   \n",
       "\n",
       "   number_outpatient  number_emergency  number_inpatient  \n",
       "0                  0                 0                 0  \n",
       "1                  0                 0                 0  \n",
       "2                  2                 0                 1  \n",
       "3                  0                 0                 0  \n",
       "4                  0                 0                 0  "
      ]
     },
     "execution_count": 98,
     "metadata": {},
     "output_type": "execute_result"
    }
   ],
   "source": [
    "lab_session = pd.read_excel(\"C://Users//hp//Downloads//Lab-session.xlsx\")\n",
    "lab_session.head()"
   ]
  },
  {
   "cell_type": "code",
   "execution_count": 99,
   "metadata": {},
   "outputs": [
    {
     "name": "stdout",
     "output_type": "stream",
     "text": [
      "<class 'pandas.core.frame.DataFrame'>\n",
      "RangeIndex: 101766 entries, 0 to 101765\n",
      "Data columns (total 7 columns):\n",
      "encounter_id          101766 non-null int64\n",
      "num_lab_procedures    101766 non-null int64\n",
      "num_procedures        101766 non-null int64\n",
      "num_medications       101766 non-null int64\n",
      "number_outpatient     101766 non-null int64\n",
      "number_emergency      101766 non-null int64\n",
      "number_inpatient      101766 non-null int64\n",
      "dtypes: int64(7)\n",
      "memory usage: 5.4 MB\n"
     ]
    }
   ],
   "source": [
    "lab_session.info()"
   ]
  },
  {
   "cell_type": "markdown",
   "metadata": {},
   "source": [
    "num_lab_procedures : Number of lab tests performed during the encounter\n",
    "Num_procedures : Number of procedures (other than lab tests) performed during the encounter\n",
    "num_medications : Number of distinct generic names administered during the encounter\n",
    "number_outpatients : Number of outpatient visits of the patient in the year preceding the encounter\n",
    "number_emergency : Number of emergency visits of the patient in the year preceding the encounter\n",
    "number_inpatient : Number of inpatient visits of the patient in the year preceding the encounter"
   ]
  },
  {
   "cell_type": "markdown",
   "metadata": {},
   "source": [
    "#Merging individual DataFrames consists details of patients into one DataFrame"
   ]
  },
  {
   "cell_type": "code",
   "execution_count": 110,
   "metadata": {},
   "outputs": [],
   "source": [
    "data=pd.concat([patient_details,admission_details,Diagnosis_session,lab_session,diabetic_data],axis=1)"
   ]
  },
  {
   "cell_type": "code",
   "execution_count": 111,
   "metadata": {},
   "outputs": [
    {
     "data": {
      "text/html": [
       "<div>\n",
       "<style scoped>\n",
       "    .dataframe tbody tr th:only-of-type {\n",
       "        vertical-align: middle;\n",
       "    }\n",
       "\n",
       "    .dataframe tbody tr th {\n",
       "        vertical-align: top;\n",
       "    }\n",
       "\n",
       "    .dataframe thead th {\n",
       "        text-align: right;\n",
       "    }\n",
       "</style>\n",
       "<table border=\"1\" class=\"dataframe\">\n",
       "  <thead>\n",
       "    <tr style=\"text-align: right;\">\n",
       "      <th></th>\n",
       "      <th>encounter_id</th>\n",
       "      <th>patient_nbr</th>\n",
       "      <th>race</th>\n",
       "      <th>gender</th>\n",
       "      <th>age</th>\n",
       "      <th>weight</th>\n",
       "      <th>patient_nbr</th>\n",
       "      <th>admission_type_id</th>\n",
       "      <th>discharge_disposition_id</th>\n",
       "      <th>admission_source_id</th>\n",
       "      <th>...</th>\n",
       "      <th>number_outpatient</th>\n",
       "      <th>number_emergency</th>\n",
       "      <th>number_inpatient</th>\n",
       "      <th>encounter_id</th>\n",
       "      <th>max_glu_serum</th>\n",
       "      <th>A1Cresult</th>\n",
       "      <th>change</th>\n",
       "      <th>diabetesMed</th>\n",
       "      <th>readmitted</th>\n",
       "      <th>treatments</th>\n",
       "    </tr>\n",
       "  </thead>\n",
       "  <tbody>\n",
       "    <tr>\n",
       "      <th>0</th>\n",
       "      <td>2278392</td>\n",
       "      <td>8222157</td>\n",
       "      <td>Caucasian</td>\n",
       "      <td>Female</td>\n",
       "      <td>[0-10)</td>\n",
       "      <td>?</td>\n",
       "      <td>8222157</td>\n",
       "      <td>6</td>\n",
       "      <td>25</td>\n",
       "      <td>1</td>\n",
       "      <td>...</td>\n",
       "      <td>0</td>\n",
       "      <td>0</td>\n",
       "      <td>0</td>\n",
       "      <td>2278392</td>\n",
       "      <td>None</td>\n",
       "      <td>None</td>\n",
       "      <td>No</td>\n",
       "      <td>No</td>\n",
       "      <td>NO</td>\n",
       "      <td>NoMed</td>\n",
       "    </tr>\n",
       "    <tr>\n",
       "      <th>1</th>\n",
       "      <td>149190</td>\n",
       "      <td>55629189</td>\n",
       "      <td>Caucasian</td>\n",
       "      <td>Female</td>\n",
       "      <td>[10-20)</td>\n",
       "      <td>?</td>\n",
       "      <td>55629189</td>\n",
       "      <td>1</td>\n",
       "      <td>1</td>\n",
       "      <td>7</td>\n",
       "      <td>...</td>\n",
       "      <td>0</td>\n",
       "      <td>0</td>\n",
       "      <td>0</td>\n",
       "      <td>149190</td>\n",
       "      <td>None</td>\n",
       "      <td>None</td>\n",
       "      <td>Ch</td>\n",
       "      <td>Yes</td>\n",
       "      <td>&gt;30</td>\n",
       "      <td>insulin</td>\n",
       "    </tr>\n",
       "    <tr>\n",
       "      <th>2</th>\n",
       "      <td>64410</td>\n",
       "      <td>86047875</td>\n",
       "      <td>AfricanAmerican</td>\n",
       "      <td>Female</td>\n",
       "      <td>[20-30)</td>\n",
       "      <td>?</td>\n",
       "      <td>86047875</td>\n",
       "      <td>1</td>\n",
       "      <td>1</td>\n",
       "      <td>7</td>\n",
       "      <td>...</td>\n",
       "      <td>2</td>\n",
       "      <td>0</td>\n",
       "      <td>1</td>\n",
       "      <td>64410</td>\n",
       "      <td>None</td>\n",
       "      <td>None</td>\n",
       "      <td>No</td>\n",
       "      <td>Yes</td>\n",
       "      <td>NO</td>\n",
       "      <td>other</td>\n",
       "    </tr>\n",
       "    <tr>\n",
       "      <th>3</th>\n",
       "      <td>500364</td>\n",
       "      <td>82442376</td>\n",
       "      <td>Caucasian</td>\n",
       "      <td>Male</td>\n",
       "      <td>[30-40)</td>\n",
       "      <td>?</td>\n",
       "      <td>82442376</td>\n",
       "      <td>1</td>\n",
       "      <td>1</td>\n",
       "      <td>7</td>\n",
       "      <td>...</td>\n",
       "      <td>0</td>\n",
       "      <td>0</td>\n",
       "      <td>0</td>\n",
       "      <td>500364</td>\n",
       "      <td>None</td>\n",
       "      <td>None</td>\n",
       "      <td>Ch</td>\n",
       "      <td>Yes</td>\n",
       "      <td>NO</td>\n",
       "      <td>insulin</td>\n",
       "    </tr>\n",
       "    <tr>\n",
       "      <th>4</th>\n",
       "      <td>16680</td>\n",
       "      <td>42519267</td>\n",
       "      <td>Caucasian</td>\n",
       "      <td>Male</td>\n",
       "      <td>[40-50)</td>\n",
       "      <td>?</td>\n",
       "      <td>42519267</td>\n",
       "      <td>1</td>\n",
       "      <td>1</td>\n",
       "      <td>7</td>\n",
       "      <td>...</td>\n",
       "      <td>0</td>\n",
       "      <td>0</td>\n",
       "      <td>0</td>\n",
       "      <td>16680</td>\n",
       "      <td>None</td>\n",
       "      <td>None</td>\n",
       "      <td>Ch</td>\n",
       "      <td>Yes</td>\n",
       "      <td>NO</td>\n",
       "      <td>io</td>\n",
       "    </tr>\n",
       "  </tbody>\n",
       "</table>\n",
       "<p>5 rows × 32 columns</p>\n",
       "</div>"
      ],
      "text/plain": [
       "   encounter_id  patient_nbr             race  gender      age weight  \\\n",
       "0       2278392      8222157        Caucasian  Female   [0-10)      ?   \n",
       "1        149190     55629189        Caucasian  Female  [10-20)      ?   \n",
       "2         64410     86047875  AfricanAmerican  Female  [20-30)      ?   \n",
       "3        500364     82442376        Caucasian    Male  [30-40)      ?   \n",
       "4         16680     42519267        Caucasian    Male  [40-50)      ?   \n",
       "\n",
       "   patient_nbr  admission_type_id  discharge_disposition_id  \\\n",
       "0      8222157                  6                        25   \n",
       "1     55629189                  1                         1   \n",
       "2     86047875                  1                         1   \n",
       "3     82442376                  1                         1   \n",
       "4     42519267                  1                         1   \n",
       "\n",
       "   admission_source_id  ...  number_outpatient number_emergency  \\\n",
       "0                    1  ...                  0                0   \n",
       "1                    7  ...                  0                0   \n",
       "2                    7  ...                  2                0   \n",
       "3                    7  ...                  0                0   \n",
       "4                    7  ...                  0                0   \n",
       "\n",
       "  number_inpatient  encounter_id max_glu_serum A1Cresult change  diabetesMed  \\\n",
       "0                0       2278392          None      None     No           No   \n",
       "1                0        149190          None      None     Ch          Yes   \n",
       "2                1         64410          None      None     No          Yes   \n",
       "3                0        500364          None      None     Ch          Yes   \n",
       "4                0         16680          None      None     Ch          Yes   \n",
       "\n",
       "   readmitted  treatments  \n",
       "0          NO       NoMed  \n",
       "1         >30     insulin  \n",
       "2          NO       other  \n",
       "3          NO     insulin  \n",
       "4          NO          io  \n",
       "\n",
       "[5 rows x 32 columns]"
      ]
     },
     "execution_count": 111,
     "metadata": {},
     "output_type": "execute_result"
    }
   ],
   "source": [
    "data.head()"
   ]
  },
  {
   "cell_type": "code",
   "execution_count": 112,
   "metadata": {},
   "outputs": [
    {
     "name": "stdout",
     "output_type": "stream",
     "text": [
      "<class 'pandas.core.frame.DataFrame'>\n",
      "RangeIndex: 101766 entries, 0 to 101765\n",
      "Data columns (total 32 columns):\n",
      "encounter_id                101766 non-null int64\n",
      "patient_nbr                 101766 non-null int64\n",
      "race                        101766 non-null object\n",
      "gender                      101766 non-null object\n",
      "age                         101766 non-null object\n",
      "weight                      101766 non-null object\n",
      "patient_nbr                 101766 non-null int64\n",
      "admission_type_id           101766 non-null int64\n",
      "discharge_disposition_id    101766 non-null int64\n",
      "admission_source_id         101766 non-null int64\n",
      "time_in_hospital            101766 non-null int64\n",
      "payer_code                  101766 non-null object\n",
      "medical_specialty           101766 non-null object\n",
      "patient_nbr                 101766 non-null int64\n",
      "diag_1                      101766 non-null object\n",
      "diag_2                      101766 non-null object\n",
      "diag_3                      101766 non-null object\n",
      "number_diagnoses            101766 non-null int64\n",
      "encounter_id                101766 non-null int64\n",
      "num_lab_procedures          101766 non-null int64\n",
      "num_procedures              101766 non-null int64\n",
      "num_medications             101766 non-null int64\n",
      "number_outpatient           101766 non-null int64\n",
      "number_emergency            101766 non-null int64\n",
      "number_inpatient            101766 non-null int64\n",
      "encounter_id                101766 non-null int64\n",
      "max_glu_serum               101766 non-null object\n",
      "A1Cresult                   101766 non-null object\n",
      "change                      101766 non-null object\n",
      "diabetesMed                 101766 non-null object\n",
      "readmitted                  101766 non-null object\n",
      "treatments                  101766 non-null object\n",
      "dtypes: int64(17), object(15)\n",
      "memory usage: 24.8+ MB\n"
     ]
    }
   ],
   "source": [
    "data.info()"
   ]
  },
  {
   "cell_type": "code",
   "execution_count": 113,
   "metadata": {},
   "outputs": [],
   "source": [
    "# Removing all duplicate columns present in dataset after merging.\n",
    "data_final=data.T.drop_duplicates().T"
   ]
  },
  {
   "cell_type": "code",
   "execution_count": 114,
   "metadata": {},
   "outputs": [],
   "source": [
    "#From the initial analysis the below three columns have large missing values and diag_1,diag_2,diag_3 are codes which are mostly not useful in our analysis.\n",
    "data_final.drop(['weight','payer_code','medical_specialty','diag_1','diag_2','diag_3'],axis=1,inplace=True)"
   ]
  },
  {
   "cell_type": "code",
   "execution_count": 116,
   "metadata": {},
   "outputs": [
    {
     "data": {
      "text/html": [
       "<div>\n",
       "<style scoped>\n",
       "    .dataframe tbody tr th:only-of-type {\n",
       "        vertical-align: middle;\n",
       "    }\n",
       "\n",
       "    .dataframe tbody tr th {\n",
       "        vertical-align: top;\n",
       "    }\n",
       "\n",
       "    .dataframe thead th {\n",
       "        text-align: right;\n",
       "    }\n",
       "</style>\n",
       "<table border=\"1\" class=\"dataframe\">\n",
       "  <thead>\n",
       "    <tr style=\"text-align: right;\">\n",
       "      <th></th>\n",
       "      <th>encounter_id</th>\n",
       "      <th>patient_nbr</th>\n",
       "      <th>race</th>\n",
       "      <th>gender</th>\n",
       "      <th>age</th>\n",
       "      <th>admission_type_id</th>\n",
       "      <th>discharge_disposition_id</th>\n",
       "      <th>admission_source_id</th>\n",
       "      <th>time_in_hospital</th>\n",
       "      <th>number_diagnoses</th>\n",
       "      <th>...</th>\n",
       "      <th>num_medications</th>\n",
       "      <th>number_outpatient</th>\n",
       "      <th>number_emergency</th>\n",
       "      <th>number_inpatient</th>\n",
       "      <th>max_glu_serum</th>\n",
       "      <th>A1Cresult</th>\n",
       "      <th>change</th>\n",
       "      <th>diabetesMed</th>\n",
       "      <th>readmitted</th>\n",
       "      <th>treatments</th>\n",
       "    </tr>\n",
       "  </thead>\n",
       "  <tbody>\n",
       "    <tr>\n",
       "      <th>0</th>\n",
       "      <td>2278392</td>\n",
       "      <td>8222157</td>\n",
       "      <td>Caucasian</td>\n",
       "      <td>Female</td>\n",
       "      <td>[0-10)</td>\n",
       "      <td>6</td>\n",
       "      <td>25</td>\n",
       "      <td>1</td>\n",
       "      <td>1</td>\n",
       "      <td>1</td>\n",
       "      <td>...</td>\n",
       "      <td>1</td>\n",
       "      <td>0</td>\n",
       "      <td>0</td>\n",
       "      <td>0</td>\n",
       "      <td>None</td>\n",
       "      <td>None</td>\n",
       "      <td>No</td>\n",
       "      <td>No</td>\n",
       "      <td>NO</td>\n",
       "      <td>NoMed</td>\n",
       "    </tr>\n",
       "    <tr>\n",
       "      <th>1</th>\n",
       "      <td>149190</td>\n",
       "      <td>55629189</td>\n",
       "      <td>Caucasian</td>\n",
       "      <td>Female</td>\n",
       "      <td>[10-20)</td>\n",
       "      <td>1</td>\n",
       "      <td>1</td>\n",
       "      <td>7</td>\n",
       "      <td>3</td>\n",
       "      <td>9</td>\n",
       "      <td>...</td>\n",
       "      <td>18</td>\n",
       "      <td>0</td>\n",
       "      <td>0</td>\n",
       "      <td>0</td>\n",
       "      <td>None</td>\n",
       "      <td>None</td>\n",
       "      <td>Ch</td>\n",
       "      <td>Yes</td>\n",
       "      <td>&gt;30</td>\n",
       "      <td>insulin</td>\n",
       "    </tr>\n",
       "    <tr>\n",
       "      <th>2</th>\n",
       "      <td>64410</td>\n",
       "      <td>86047875</td>\n",
       "      <td>AfricanAmerican</td>\n",
       "      <td>Female</td>\n",
       "      <td>[20-30)</td>\n",
       "      <td>1</td>\n",
       "      <td>1</td>\n",
       "      <td>7</td>\n",
       "      <td>2</td>\n",
       "      <td>6</td>\n",
       "      <td>...</td>\n",
       "      <td>13</td>\n",
       "      <td>2</td>\n",
       "      <td>0</td>\n",
       "      <td>1</td>\n",
       "      <td>None</td>\n",
       "      <td>None</td>\n",
       "      <td>No</td>\n",
       "      <td>Yes</td>\n",
       "      <td>NO</td>\n",
       "      <td>other</td>\n",
       "    </tr>\n",
       "    <tr>\n",
       "      <th>3</th>\n",
       "      <td>500364</td>\n",
       "      <td>82442376</td>\n",
       "      <td>Caucasian</td>\n",
       "      <td>Male</td>\n",
       "      <td>[30-40)</td>\n",
       "      <td>1</td>\n",
       "      <td>1</td>\n",
       "      <td>7</td>\n",
       "      <td>2</td>\n",
       "      <td>7</td>\n",
       "      <td>...</td>\n",
       "      <td>16</td>\n",
       "      <td>0</td>\n",
       "      <td>0</td>\n",
       "      <td>0</td>\n",
       "      <td>None</td>\n",
       "      <td>None</td>\n",
       "      <td>Ch</td>\n",
       "      <td>Yes</td>\n",
       "      <td>NO</td>\n",
       "      <td>insulin</td>\n",
       "    </tr>\n",
       "    <tr>\n",
       "      <th>4</th>\n",
       "      <td>16680</td>\n",
       "      <td>42519267</td>\n",
       "      <td>Caucasian</td>\n",
       "      <td>Male</td>\n",
       "      <td>[40-50)</td>\n",
       "      <td>1</td>\n",
       "      <td>1</td>\n",
       "      <td>7</td>\n",
       "      <td>1</td>\n",
       "      <td>5</td>\n",
       "      <td>...</td>\n",
       "      <td>8</td>\n",
       "      <td>0</td>\n",
       "      <td>0</td>\n",
       "      <td>0</td>\n",
       "      <td>None</td>\n",
       "      <td>None</td>\n",
       "      <td>Ch</td>\n",
       "      <td>Yes</td>\n",
       "      <td>NO</td>\n",
       "      <td>io</td>\n",
       "    </tr>\n",
       "  </tbody>\n",
       "</table>\n",
       "<p>5 rows × 22 columns</p>\n",
       "</div>"
      ],
      "text/plain": [
       "  encounter_id patient_nbr             race  gender      age  \\\n",
       "0      2278392     8222157        Caucasian  Female   [0-10)   \n",
       "1       149190    55629189        Caucasian  Female  [10-20)   \n",
       "2        64410    86047875  AfricanAmerican  Female  [20-30)   \n",
       "3       500364    82442376        Caucasian    Male  [30-40)   \n",
       "4        16680    42519267        Caucasian    Male  [40-50)   \n",
       "\n",
       "  admission_type_id discharge_disposition_id admission_source_id  \\\n",
       "0                 6                       25                   1   \n",
       "1                 1                        1                   7   \n",
       "2                 1                        1                   7   \n",
       "3                 1                        1                   7   \n",
       "4                 1                        1                   7   \n",
       "\n",
       "  time_in_hospital number_diagnoses  ... num_medications number_outpatient  \\\n",
       "0                1                1  ...               1                 0   \n",
       "1                3                9  ...              18                 0   \n",
       "2                2                6  ...              13                 2   \n",
       "3                2                7  ...              16                 0   \n",
       "4                1                5  ...               8                 0   \n",
       "\n",
       "  number_emergency number_inpatient max_glu_serum A1Cresult change  \\\n",
       "0                0                0          None      None     No   \n",
       "1                0                0          None      None     Ch   \n",
       "2                0                1          None      None     No   \n",
       "3                0                0          None      None     Ch   \n",
       "4                0                0          None      None     Ch   \n",
       "\n",
       "  diabetesMed readmitted treatments  \n",
       "0          No         NO      NoMed  \n",
       "1         Yes        >30    insulin  \n",
       "2         Yes         NO      other  \n",
       "3         Yes         NO    insulin  \n",
       "4         Yes         NO         io  \n",
       "\n",
       "[5 rows x 22 columns]"
      ]
     },
     "execution_count": 116,
     "metadata": {},
     "output_type": "execute_result"
    }
   ],
   "source": [
    "data_final.head()\n"
   ]
  },
  {
   "cell_type": "code",
   "execution_count": 117,
   "metadata": {},
   "outputs": [
    {
     "name": "stdout",
     "output_type": "stream",
     "text": [
      "<class 'pandas.core.frame.DataFrame'>\n",
      "RangeIndex: 101766 entries, 0 to 101765\n",
      "Data columns (total 22 columns):\n",
      "encounter_id                101766 non-null object\n",
      "patient_nbr                 101766 non-null object\n",
      "race                        101766 non-null object\n",
      "gender                      101766 non-null object\n",
      "age                         101766 non-null object\n",
      "admission_type_id           101766 non-null object\n",
      "discharge_disposition_id    101766 non-null object\n",
      "admission_source_id         101766 non-null object\n",
      "time_in_hospital            101766 non-null object\n",
      "number_diagnoses            101766 non-null object\n",
      "num_lab_procedures          101766 non-null object\n",
      "num_procedures              101766 non-null object\n",
      "num_medications             101766 non-null object\n",
      "number_outpatient           101766 non-null object\n",
      "number_emergency            101766 non-null object\n",
      "number_inpatient            101766 non-null object\n",
      "max_glu_serum               101766 non-null object\n",
      "A1Cresult                   101766 non-null object\n",
      "change                      101766 non-null object\n",
      "diabetesMed                 101766 non-null object\n",
      "readmitted                  101766 non-null object\n",
      "treatments                  101766 non-null object\n",
      "dtypes: object(22)\n",
      "memory usage: 17.1+ MB\n"
     ]
    }
   ],
   "source": [
    "data_final.info()"
   ]
  },
  {
   "cell_type": "code",
   "execution_count": 49,
   "metadata": {},
   "outputs": [
    {
     "data": {
      "text/html": [
       "<div>\n",
       "<style scoped>\n",
       "    .dataframe tbody tr th:only-of-type {\n",
       "        vertical-align: middle;\n",
       "    }\n",
       "\n",
       "    .dataframe tbody tr th {\n",
       "        vertical-align: top;\n",
       "    }\n",
       "\n",
       "    .dataframe thead th {\n",
       "        text-align: right;\n",
       "    }\n",
       "</style>\n",
       "<table border=\"1\" class=\"dataframe\">\n",
       "  <thead>\n",
       "    <tr style=\"text-align: right;\">\n",
       "      <th></th>\n",
       "      <th>encounter_id</th>\n",
       "      <th>patient_nbr</th>\n",
       "      <th>race</th>\n",
       "      <th>gender</th>\n",
       "      <th>age</th>\n",
       "      <th>weight</th>\n",
       "      <th>admission_type_id</th>\n",
       "      <th>discharge_disposition_id</th>\n",
       "      <th>admission_source_id</th>\n",
       "      <th>time_in_hospital</th>\n",
       "      <th>...</th>\n",
       "      <th>num_medications</th>\n",
       "      <th>number_outpatient</th>\n",
       "      <th>number_emergency</th>\n",
       "      <th>number_inpatient</th>\n",
       "      <th>max_glu_serum</th>\n",
       "      <th>A1Cresult</th>\n",
       "      <th>change</th>\n",
       "      <th>diabetesMed</th>\n",
       "      <th>readmitted</th>\n",
       "      <th>treatments</th>\n",
       "    </tr>\n",
       "  </thead>\n",
       "  <tbody>\n",
       "    <tr>\n",
       "      <th>0</th>\n",
       "      <td>2278392</td>\n",
       "      <td>8222157</td>\n",
       "      <td>Caucasian</td>\n",
       "      <td>Female</td>\n",
       "      <td>[0-10)</td>\n",
       "      <td>?</td>\n",
       "      <td>6</td>\n",
       "      <td>25</td>\n",
       "      <td>1</td>\n",
       "      <td>1</td>\n",
       "      <td>...</td>\n",
       "      <td>1</td>\n",
       "      <td>0</td>\n",
       "      <td>0</td>\n",
       "      <td>0</td>\n",
       "      <td>None</td>\n",
       "      <td>None</td>\n",
       "      <td>No</td>\n",
       "      <td>No</td>\n",
       "      <td>NO</td>\n",
       "      <td>NoMed</td>\n",
       "    </tr>\n",
       "    <tr>\n",
       "      <th>1</th>\n",
       "      <td>149190</td>\n",
       "      <td>55629189</td>\n",
       "      <td>Caucasian</td>\n",
       "      <td>Female</td>\n",
       "      <td>[10-20)</td>\n",
       "      <td>?</td>\n",
       "      <td>1</td>\n",
       "      <td>1</td>\n",
       "      <td>7</td>\n",
       "      <td>3</td>\n",
       "      <td>...</td>\n",
       "      <td>18</td>\n",
       "      <td>0</td>\n",
       "      <td>0</td>\n",
       "      <td>0</td>\n",
       "      <td>None</td>\n",
       "      <td>None</td>\n",
       "      <td>Ch</td>\n",
       "      <td>Yes</td>\n",
       "      <td>&gt;30</td>\n",
       "      <td>insulin</td>\n",
       "    </tr>\n",
       "    <tr>\n",
       "      <th>2</th>\n",
       "      <td>64410</td>\n",
       "      <td>86047875</td>\n",
       "      <td>AfricanAmerican</td>\n",
       "      <td>Female</td>\n",
       "      <td>[20-30)</td>\n",
       "      <td>?</td>\n",
       "      <td>1</td>\n",
       "      <td>1</td>\n",
       "      <td>7</td>\n",
       "      <td>2</td>\n",
       "      <td>...</td>\n",
       "      <td>13</td>\n",
       "      <td>2</td>\n",
       "      <td>0</td>\n",
       "      <td>1</td>\n",
       "      <td>None</td>\n",
       "      <td>None</td>\n",
       "      <td>No</td>\n",
       "      <td>Yes</td>\n",
       "      <td>NO</td>\n",
       "      <td>other</td>\n",
       "    </tr>\n",
       "    <tr>\n",
       "      <th>3</th>\n",
       "      <td>500364</td>\n",
       "      <td>82442376</td>\n",
       "      <td>Caucasian</td>\n",
       "      <td>Male</td>\n",
       "      <td>[30-40)</td>\n",
       "      <td>?</td>\n",
       "      <td>1</td>\n",
       "      <td>1</td>\n",
       "      <td>7</td>\n",
       "      <td>2</td>\n",
       "      <td>...</td>\n",
       "      <td>16</td>\n",
       "      <td>0</td>\n",
       "      <td>0</td>\n",
       "      <td>0</td>\n",
       "      <td>None</td>\n",
       "      <td>None</td>\n",
       "      <td>Ch</td>\n",
       "      <td>Yes</td>\n",
       "      <td>NO</td>\n",
       "      <td>insulin</td>\n",
       "    </tr>\n",
       "    <tr>\n",
       "      <th>4</th>\n",
       "      <td>16680</td>\n",
       "      <td>42519267</td>\n",
       "      <td>Caucasian</td>\n",
       "      <td>Male</td>\n",
       "      <td>[40-50)</td>\n",
       "      <td>?</td>\n",
       "      <td>1</td>\n",
       "      <td>1</td>\n",
       "      <td>7</td>\n",
       "      <td>1</td>\n",
       "      <td>...</td>\n",
       "      <td>8</td>\n",
       "      <td>0</td>\n",
       "      <td>0</td>\n",
       "      <td>0</td>\n",
       "      <td>None</td>\n",
       "      <td>None</td>\n",
       "      <td>Ch</td>\n",
       "      <td>Yes</td>\n",
       "      <td>NO</td>\n",
       "      <td>io</td>\n",
       "    </tr>\n",
       "  </tbody>\n",
       "</table>\n",
       "<p>5 rows × 25 columns</p>\n",
       "</div>"
      ],
      "text/plain": [
       "  encounter_id patient_nbr             race  gender      age weight  \\\n",
       "0      2278392     8222157        Caucasian  Female   [0-10)      ?   \n",
       "1       149190    55629189        Caucasian  Female  [10-20)      ?   \n",
       "2        64410    86047875  AfricanAmerican  Female  [20-30)      ?   \n",
       "3       500364    82442376        Caucasian    Male  [30-40)      ?   \n",
       "4        16680    42519267        Caucasian    Male  [40-50)      ?   \n",
       "\n",
       "  admission_type_id discharge_disposition_id admission_source_id  \\\n",
       "0                 6                       25                   1   \n",
       "1                 1                        1                   7   \n",
       "2                 1                        1                   7   \n",
       "3                 1                        1                   7   \n",
       "4                 1                        1                   7   \n",
       "\n",
       "  time_in_hospital  ... num_medications number_outpatient number_emergency  \\\n",
       "0                1  ...               1                 0                0   \n",
       "1                3  ...              18                 0                0   \n",
       "2                2  ...              13                 2                0   \n",
       "3                2  ...              16                 0                0   \n",
       "4                1  ...               8                 0                0   \n",
       "\n",
       "  number_inpatient max_glu_serum A1Cresult change diabetesMed readmitted  \\\n",
       "0                0          None      None     No          No         NO   \n",
       "1                0          None      None     Ch         Yes        >30   \n",
       "2                1          None      None     No         Yes         NO   \n",
       "3                0          None      None     Ch         Yes         NO   \n",
       "4                0          None      None     Ch         Yes         NO   \n",
       "\n",
       "  treatments  \n",
       "0      NoMed  \n",
       "1    insulin  \n",
       "2      other  \n",
       "3    insulin  \n",
       "4         io  \n",
       "\n",
       "[5 rows x 25 columns]"
      ]
     },
     "execution_count": 49,
     "metadata": {},
     "output_type": "execute_result"
    }
   ],
   "source": [
    "data_final.head()"
   ]
  },
  {
   "cell_type": "code",
   "execution_count": 118,
   "metadata": {},
   "outputs": [
    {
     "name": "stdout",
     "output_type": "stream",
     "text": [
      "<class 'pandas.core.frame.DataFrame'>\n",
      "RangeIndex: 101766 entries, 0 to 101765\n",
      "Data columns (total 22 columns):\n",
      "encounter_id                101766 non-null object\n",
      "patient_nbr                 101766 non-null object\n",
      "race                        101766 non-null object\n",
      "gender                      101766 non-null object\n",
      "age                         101766 non-null object\n",
      "admission_type_id           101766 non-null object\n",
      "discharge_disposition_id    101766 non-null object\n",
      "admission_source_id         101766 non-null object\n",
      "time_in_hospital            101766 non-null object\n",
      "number_diagnoses            101766 non-null object\n",
      "num_lab_procedures          101766 non-null object\n",
      "num_procedures              101766 non-null object\n",
      "num_medications             101766 non-null object\n",
      "number_outpatient           101766 non-null object\n",
      "number_emergency            101766 non-null object\n",
      "number_inpatient            101766 non-null object\n",
      "max_glu_serum               101766 non-null object\n",
      "A1Cresult                   101766 non-null object\n",
      "change                      101766 non-null object\n",
      "diabetesMed                 101766 non-null object\n",
      "readmitted                  101766 non-null object\n",
      "treatments                  101766 non-null object\n",
      "dtypes: object(22)\n",
      "memory usage: 17.1+ MB\n"
     ]
    }
   ],
   "source": [
    "data_final.info()"
   ]
  },
  {
   "cell_type": "markdown",
   "metadata": {},
   "source": [
    "# FINDING SOLO INSULIN OR INSULIN CONJUNCTION WITH OTHER DRUGS ARE MORE EFFECTIVE FOR DIABETIC PATIENTS FROM THE DATA."
   ]
  },
  {
   "cell_type": "code",
   "execution_count": 121,
   "metadata": {},
   "outputs": [
    {
     "name": "stdout",
     "output_type": "stream",
     "text": [
      "(26820, 22)\n"
     ]
    },
    {
     "data": {
      "text/html": [
       "<div>\n",
       "<style scoped>\n",
       "    .dataframe tbody tr th:only-of-type {\n",
       "        vertical-align: middle;\n",
       "    }\n",
       "\n",
       "    .dataframe tbody tr th {\n",
       "        vertical-align: top;\n",
       "    }\n",
       "\n",
       "    .dataframe thead th {\n",
       "        text-align: right;\n",
       "    }\n",
       "</style>\n",
       "<table border=\"1\" class=\"dataframe\">\n",
       "  <thead>\n",
       "    <tr style=\"text-align: right;\">\n",
       "      <th></th>\n",
       "      <th>encounter_id</th>\n",
       "      <th>patient_nbr</th>\n",
       "      <th>race</th>\n",
       "      <th>gender</th>\n",
       "      <th>age</th>\n",
       "      <th>admission_type_id</th>\n",
       "      <th>discharge_disposition_id</th>\n",
       "      <th>admission_source_id</th>\n",
       "      <th>time_in_hospital</th>\n",
       "      <th>number_diagnoses</th>\n",
       "      <th>...</th>\n",
       "      <th>num_medications</th>\n",
       "      <th>number_outpatient</th>\n",
       "      <th>number_emergency</th>\n",
       "      <th>number_inpatient</th>\n",
       "      <th>max_glu_serum</th>\n",
       "      <th>A1Cresult</th>\n",
       "      <th>change</th>\n",
       "      <th>diabetesMed</th>\n",
       "      <th>readmitted</th>\n",
       "      <th>treatments</th>\n",
       "    </tr>\n",
       "  </thead>\n",
       "  <tbody>\n",
       "    <tr>\n",
       "      <th>3</th>\n",
       "      <td>500364</td>\n",
       "      <td>82442376</td>\n",
       "      <td>Caucasian</td>\n",
       "      <td>Male</td>\n",
       "      <td>[30-40)</td>\n",
       "      <td>1</td>\n",
       "      <td>1</td>\n",
       "      <td>7</td>\n",
       "      <td>2</td>\n",
       "      <td>7</td>\n",
       "      <td>...</td>\n",
       "      <td>16</td>\n",
       "      <td>0</td>\n",
       "      <td>0</td>\n",
       "      <td>0</td>\n",
       "      <td>None</td>\n",
       "      <td>None</td>\n",
       "      <td>Ch</td>\n",
       "      <td>Yes</td>\n",
       "      <td>NO</td>\n",
       "      <td>insulin</td>\n",
       "    </tr>\n",
       "    <tr>\n",
       "      <th>4</th>\n",
       "      <td>16680</td>\n",
       "      <td>42519267</td>\n",
       "      <td>Caucasian</td>\n",
       "      <td>Male</td>\n",
       "      <td>[40-50)</td>\n",
       "      <td>1</td>\n",
       "      <td>1</td>\n",
       "      <td>7</td>\n",
       "      <td>1</td>\n",
       "      <td>5</td>\n",
       "      <td>...</td>\n",
       "      <td>8</td>\n",
       "      <td>0</td>\n",
       "      <td>0</td>\n",
       "      <td>0</td>\n",
       "      <td>None</td>\n",
       "      <td>None</td>\n",
       "      <td>Ch</td>\n",
       "      <td>Yes</td>\n",
       "      <td>NO</td>\n",
       "      <td>io</td>\n",
       "    </tr>\n",
       "    <tr>\n",
       "      <th>6</th>\n",
       "      <td>55842</td>\n",
       "      <td>84259809</td>\n",
       "      <td>Caucasian</td>\n",
       "      <td>Male</td>\n",
       "      <td>[60-70)</td>\n",
       "      <td>3</td>\n",
       "      <td>1</td>\n",
       "      <td>2</td>\n",
       "      <td>4</td>\n",
       "      <td>7</td>\n",
       "      <td>...</td>\n",
       "      <td>21</td>\n",
       "      <td>0</td>\n",
       "      <td>0</td>\n",
       "      <td>0</td>\n",
       "      <td>None</td>\n",
       "      <td>None</td>\n",
       "      <td>Ch</td>\n",
       "      <td>Yes</td>\n",
       "      <td>NO</td>\n",
       "      <td>io</td>\n",
       "    </tr>\n",
       "    <tr>\n",
       "      <th>8</th>\n",
       "      <td>12522</td>\n",
       "      <td>48330783</td>\n",
       "      <td>Caucasian</td>\n",
       "      <td>Female</td>\n",
       "      <td>[80-90)</td>\n",
       "      <td>2</td>\n",
       "      <td>1</td>\n",
       "      <td>4</td>\n",
       "      <td>13</td>\n",
       "      <td>8</td>\n",
       "      <td>...</td>\n",
       "      <td>28</td>\n",
       "      <td>0</td>\n",
       "      <td>0</td>\n",
       "      <td>0</td>\n",
       "      <td>None</td>\n",
       "      <td>None</td>\n",
       "      <td>Ch</td>\n",
       "      <td>Yes</td>\n",
       "      <td>NO</td>\n",
       "      <td>io</td>\n",
       "    </tr>\n",
       "    <tr>\n",
       "      <th>9</th>\n",
       "      <td>15738</td>\n",
       "      <td>63555939</td>\n",
       "      <td>Caucasian</td>\n",
       "      <td>Female</td>\n",
       "      <td>[90-100)</td>\n",
       "      <td>3</td>\n",
       "      <td>3</td>\n",
       "      <td>4</td>\n",
       "      <td>12</td>\n",
       "      <td>8</td>\n",
       "      <td>...</td>\n",
       "      <td>18</td>\n",
       "      <td>0</td>\n",
       "      <td>0</td>\n",
       "      <td>0</td>\n",
       "      <td>None</td>\n",
       "      <td>None</td>\n",
       "      <td>Ch</td>\n",
       "      <td>Yes</td>\n",
       "      <td>NO</td>\n",
       "      <td>io</td>\n",
       "    </tr>\n",
       "  </tbody>\n",
       "</table>\n",
       "<p>5 rows × 22 columns</p>\n",
       "</div>"
      ],
      "text/plain": [
       "  encounter_id patient_nbr       race  gender       age admission_type_id  \\\n",
       "3       500364    82442376  Caucasian    Male   [30-40)                 1   \n",
       "4        16680    42519267  Caucasian    Male   [40-50)                 1   \n",
       "6        55842    84259809  Caucasian    Male   [60-70)                 3   \n",
       "8        12522    48330783  Caucasian  Female   [80-90)                 2   \n",
       "9        15738    63555939  Caucasian  Female  [90-100)                 3   \n",
       "\n",
       "  discharge_disposition_id admission_source_id time_in_hospital  \\\n",
       "3                        1                   7                2   \n",
       "4                        1                   7                1   \n",
       "6                        1                   2                4   \n",
       "8                        1                   4               13   \n",
       "9                        3                   4               12   \n",
       "\n",
       "  number_diagnoses  ... num_medications number_outpatient number_emergency  \\\n",
       "3                7  ...              16                 0                0   \n",
       "4                5  ...               8                 0                0   \n",
       "6                7  ...              21                 0                0   \n",
       "8                8  ...              28                 0                0   \n",
       "9                8  ...              18                 0                0   \n",
       "\n",
       "  number_inpatient max_glu_serum A1Cresult change diabetesMed readmitted  \\\n",
       "3                0          None      None     Ch         Yes         NO   \n",
       "4                0          None      None     Ch         Yes         NO   \n",
       "6                0          None      None     Ch         Yes         NO   \n",
       "8                0          None      None     Ch         Yes         NO   \n",
       "9                0          None      None     Ch         Yes         NO   \n",
       "\n",
       "  treatments  \n",
       "3    insulin  \n",
       "4         io  \n",
       "6         io  \n",
       "8         io  \n",
       "9         io  \n",
       "\n",
       "[5 rows x 22 columns]"
      ]
     },
     "execution_count": 121,
     "metadata": {},
     "output_type": "execute_result"
    }
   ],
   "source": [
    "eff_diab_data=data_final[(data_final['diabetesMed']=='Yes')&(data_final['readmitted']=='NO')&(data_final['treatments'].isin(['insulin','io']))&(~data_final.discharge_disposition_id.isin([11,13,14,19,20]))]\n",
    "print(eff_diab_data.shape)\n",
    "eff_diab_data.head()\n"
   ]
  },
  {
   "cell_type": "markdown",
   "metadata": {},
   "source": [
    "1. From the given data diabetesMed attribute is \"YES\" when a diabetic medication is given to treatment and similary \"NO\" means that no diabetic medication is given to a patient.\n",
    "So, according to the given objective considering records who are taking diabetic medication.\n",
    "According to objective need to suggest effective medication,the word effective means the patient should have some effect after taking particular treatment.\n",
    "\n",
    "2. Made an assumption that if patient taking a diabetic medication and not readmitting into the hospital is effective treatment for that patient and considering records with reamitted as \"NO\".\n",
    "\n",
    "3. Objective is to find effective treatment among solo insulin or insulin combined with other drugs.As we have three treatments given to a patient but according to objective only require two treatments.\n",
    "\n",
    "4. Removing some records with having discharge disposition id as 11,13,14,19,20 because the patients having discharge disposition id are either dead or hospice which is not use in our analysis.\n"
   ]
  },
  {
   "cell_type": "code",
   "execution_count": 123,
   "metadata": {},
   "outputs": [
    {
     "name": "stdout",
     "output_type": "stream",
     "text": [
      "<class 'pandas.core.frame.DataFrame'>\n",
      "Int64Index: 26820 entries, 3 to 101764\n",
      "Data columns (total 22 columns):\n",
      "encounter_id                26820 non-null object\n",
      "patient_nbr                 26820 non-null object\n",
      "race                        26820 non-null object\n",
      "gender                      26820 non-null object\n",
      "age                         26820 non-null object\n",
      "admission_type_id           26820 non-null object\n",
      "discharge_disposition_id    26820 non-null object\n",
      "admission_source_id         26820 non-null object\n",
      "time_in_hospital            26820 non-null object\n",
      "number_diagnoses            26820 non-null object\n",
      "num_lab_procedures          26820 non-null object\n",
      "num_procedures              26820 non-null object\n",
      "num_medications             26820 non-null object\n",
      "number_outpatient           26820 non-null object\n",
      "number_emergency            26820 non-null object\n",
      "number_inpatient            26820 non-null object\n",
      "max_glu_serum               26820 non-null object\n",
      "A1Cresult                   26820 non-null object\n",
      "change                      26820 non-null object\n",
      "diabetesMed                 26820 non-null object\n",
      "readmitted                  26820 non-null object\n",
      "treatments                  26820 non-null object\n",
      "dtypes: object(22)\n",
      "memory usage: 4.7+ MB\n"
     ]
    }
   ],
   "source": [
    "eff_diab_data.info()"
   ]
  },
  {
   "cell_type": "code",
   "execution_count": 124,
   "metadata": {},
   "outputs": [
    {
     "data": {
      "text/plain": [
       "insulin    29864\n",
       "other      23755\n",
       "io         23100\n",
       "NoMed      22624\n",
       "Name: treatments, dtype: int64"
      ]
     },
     "execution_count": 124,
     "metadata": {},
     "output_type": "execute_result"
    }
   ],
   "source": [
    "# Total Number of patients who are taking diabetic treatment\n",
    "data_final[~data_final.discharge_disposition_id.isin([11,13,14,19,20])].treatments.value_counts()"
   ]
  },
  {
   "cell_type": "code",
   "execution_count": null,
   "metadata": {},
   "outputs": [],
   "source": [
    "# number of people taking insulin are 29864"
   ]
  },
  {
   "cell_type": "code",
   "execution_count": 125,
   "metadata": {},
   "outputs": [
    {
     "data": {
      "text/plain": [
       "insulin    14675\n",
       "io         12145\n",
       "Name: treatments, dtype: int64"
      ]
     },
     "execution_count": 125,
     "metadata": {},
     "output_type": "execute_result"
    }
   ],
   "source": [
    "# Diabetic Patients taking treatment and not readmitting into hospital which means treatment is effective.\n",
    "eff_diab_data.treatments.value_counts()"
   ]
  },
  {
   "cell_type": "code",
   "execution_count": 126,
   "metadata": {},
   "outputs": [
    {
     "name": "stdout",
     "output_type": "stream",
     "text": [
      "Readmission Rate of Patients given Solo Insulin  50 %\n",
      "Readmission Rate of patients given Insulin combined with other Drugs 47 %\n"
     ]
    }
   ],
   "source": [
    "print('Readmission Rate of Patients given Solo Insulin ',int(abs(1-(14675/29864))*100),'%')\n",
    "print('Readmission Rate of patients given Insulin combined with other Drugs',int(abs(1-(12145/23100))*100),'%')"
   ]
  },
  {
   "cell_type": "markdown",
   "metadata": {},
   "source": [
    "1. Here effectivity of medication is calculated by (Patinets taking \"X\" treatment and not readmitting into the hospital)/(Total No.of patients treated with \"X\" treatment)\n",
    "\n",
    "# An intresting observation from the above is despite of giving Solo Insulin to more patients but the patients readmission rate is high for patients taking Solo Insulin Treatment.\n",
    "\n",
    "\n",
    "# Important inference from the data is Insulin combined with other drugs is more effective for patients."
   ]
  },
  {
   "cell_type": "markdown",
   "metadata": {},
   "source": [
    "# PREPROCESSING DATA FOR BUILING A MODEL WHICH CAN PREDICT AN EFFECTIVE TREATMENT FOR A DIABETIC PATIENT\n",
    "\n",
    " # Using eff_diab_data for modelling because as disscussed earlier assumption of effective treatment is satisfied when a patient taking diabetic medication and not readmitting into the hospital.\n",
    " \n",
    " \n",
    " ## Note: This data is after removing the patients who are dead and hospice."
   ]
  },
  {
   "cell_type": "code",
   "execution_count": 127,
   "metadata": {},
   "outputs": [
    {
     "data": {
      "text/html": [
       "<div>\n",
       "<style scoped>\n",
       "    .dataframe tbody tr th:only-of-type {\n",
       "        vertical-align: middle;\n",
       "    }\n",
       "\n",
       "    .dataframe tbody tr th {\n",
       "        vertical-align: top;\n",
       "    }\n",
       "\n",
       "    .dataframe thead th {\n",
       "        text-align: right;\n",
       "    }\n",
       "</style>\n",
       "<table border=\"1\" class=\"dataframe\">\n",
       "  <thead>\n",
       "    <tr style=\"text-align: right;\">\n",
       "      <th></th>\n",
       "      <th>encounter_id</th>\n",
       "      <th>patient_nbr</th>\n",
       "      <th>race</th>\n",
       "      <th>gender</th>\n",
       "      <th>age</th>\n",
       "      <th>admission_type_id</th>\n",
       "      <th>discharge_disposition_id</th>\n",
       "      <th>admission_source_id</th>\n",
       "      <th>time_in_hospital</th>\n",
       "      <th>number_diagnoses</th>\n",
       "      <th>...</th>\n",
       "      <th>num_medications</th>\n",
       "      <th>number_outpatient</th>\n",
       "      <th>number_emergency</th>\n",
       "      <th>number_inpatient</th>\n",
       "      <th>max_glu_serum</th>\n",
       "      <th>A1Cresult</th>\n",
       "      <th>change</th>\n",
       "      <th>diabetesMed</th>\n",
       "      <th>readmitted</th>\n",
       "      <th>treatments</th>\n",
       "    </tr>\n",
       "  </thead>\n",
       "  <tbody>\n",
       "    <tr>\n",
       "      <th>3</th>\n",
       "      <td>500364</td>\n",
       "      <td>82442376</td>\n",
       "      <td>Caucasian</td>\n",
       "      <td>Male</td>\n",
       "      <td>[30-40)</td>\n",
       "      <td>1</td>\n",
       "      <td>1</td>\n",
       "      <td>7</td>\n",
       "      <td>2</td>\n",
       "      <td>7</td>\n",
       "      <td>...</td>\n",
       "      <td>16</td>\n",
       "      <td>0</td>\n",
       "      <td>0</td>\n",
       "      <td>0</td>\n",
       "      <td>None</td>\n",
       "      <td>None</td>\n",
       "      <td>Ch</td>\n",
       "      <td>Yes</td>\n",
       "      <td>NO</td>\n",
       "      <td>insulin</td>\n",
       "    </tr>\n",
       "    <tr>\n",
       "      <th>4</th>\n",
       "      <td>16680</td>\n",
       "      <td>42519267</td>\n",
       "      <td>Caucasian</td>\n",
       "      <td>Male</td>\n",
       "      <td>[40-50)</td>\n",
       "      <td>1</td>\n",
       "      <td>1</td>\n",
       "      <td>7</td>\n",
       "      <td>1</td>\n",
       "      <td>5</td>\n",
       "      <td>...</td>\n",
       "      <td>8</td>\n",
       "      <td>0</td>\n",
       "      <td>0</td>\n",
       "      <td>0</td>\n",
       "      <td>None</td>\n",
       "      <td>None</td>\n",
       "      <td>Ch</td>\n",
       "      <td>Yes</td>\n",
       "      <td>NO</td>\n",
       "      <td>io</td>\n",
       "    </tr>\n",
       "    <tr>\n",
       "      <th>6</th>\n",
       "      <td>55842</td>\n",
       "      <td>84259809</td>\n",
       "      <td>Caucasian</td>\n",
       "      <td>Male</td>\n",
       "      <td>[60-70)</td>\n",
       "      <td>3</td>\n",
       "      <td>1</td>\n",
       "      <td>2</td>\n",
       "      <td>4</td>\n",
       "      <td>7</td>\n",
       "      <td>...</td>\n",
       "      <td>21</td>\n",
       "      <td>0</td>\n",
       "      <td>0</td>\n",
       "      <td>0</td>\n",
       "      <td>None</td>\n",
       "      <td>None</td>\n",
       "      <td>Ch</td>\n",
       "      <td>Yes</td>\n",
       "      <td>NO</td>\n",
       "      <td>io</td>\n",
       "    </tr>\n",
       "    <tr>\n",
       "      <th>8</th>\n",
       "      <td>12522</td>\n",
       "      <td>48330783</td>\n",
       "      <td>Caucasian</td>\n",
       "      <td>Female</td>\n",
       "      <td>[80-90)</td>\n",
       "      <td>2</td>\n",
       "      <td>1</td>\n",
       "      <td>4</td>\n",
       "      <td>13</td>\n",
       "      <td>8</td>\n",
       "      <td>...</td>\n",
       "      <td>28</td>\n",
       "      <td>0</td>\n",
       "      <td>0</td>\n",
       "      <td>0</td>\n",
       "      <td>None</td>\n",
       "      <td>None</td>\n",
       "      <td>Ch</td>\n",
       "      <td>Yes</td>\n",
       "      <td>NO</td>\n",
       "      <td>io</td>\n",
       "    </tr>\n",
       "    <tr>\n",
       "      <th>9</th>\n",
       "      <td>15738</td>\n",
       "      <td>63555939</td>\n",
       "      <td>Caucasian</td>\n",
       "      <td>Female</td>\n",
       "      <td>[90-100)</td>\n",
       "      <td>3</td>\n",
       "      <td>3</td>\n",
       "      <td>4</td>\n",
       "      <td>12</td>\n",
       "      <td>8</td>\n",
       "      <td>...</td>\n",
       "      <td>18</td>\n",
       "      <td>0</td>\n",
       "      <td>0</td>\n",
       "      <td>0</td>\n",
       "      <td>None</td>\n",
       "      <td>None</td>\n",
       "      <td>Ch</td>\n",
       "      <td>Yes</td>\n",
       "      <td>NO</td>\n",
       "      <td>io</td>\n",
       "    </tr>\n",
       "  </tbody>\n",
       "</table>\n",
       "<p>5 rows × 22 columns</p>\n",
       "</div>"
      ],
      "text/plain": [
       "  encounter_id patient_nbr       race  gender       age admission_type_id  \\\n",
       "3       500364    82442376  Caucasian    Male   [30-40)                 1   \n",
       "4        16680    42519267  Caucasian    Male   [40-50)                 1   \n",
       "6        55842    84259809  Caucasian    Male   [60-70)                 3   \n",
       "8        12522    48330783  Caucasian  Female   [80-90)                 2   \n",
       "9        15738    63555939  Caucasian  Female  [90-100)                 3   \n",
       "\n",
       "  discharge_disposition_id admission_source_id time_in_hospital  \\\n",
       "3                        1                   7                2   \n",
       "4                        1                   7                1   \n",
       "6                        1                   2                4   \n",
       "8                        1                   4               13   \n",
       "9                        3                   4               12   \n",
       "\n",
       "  number_diagnoses  ... num_medications number_outpatient number_emergency  \\\n",
       "3                7  ...              16                 0                0   \n",
       "4                5  ...               8                 0                0   \n",
       "6                7  ...              21                 0                0   \n",
       "8                8  ...              28                 0                0   \n",
       "9                8  ...              18                 0                0   \n",
       "\n",
       "  number_inpatient max_glu_serum A1Cresult change diabetesMed readmitted  \\\n",
       "3                0          None      None     Ch         Yes         NO   \n",
       "4                0          None      None     Ch         Yes         NO   \n",
       "6                0          None      None     Ch         Yes         NO   \n",
       "8                0          None      None     Ch         Yes         NO   \n",
       "9                0          None      None     Ch         Yes         NO   \n",
       "\n",
       "  treatments  \n",
       "3    insulin  \n",
       "4         io  \n",
       "6         io  \n",
       "8         io  \n",
       "9         io  \n",
       "\n",
       "[5 rows x 22 columns]"
      ]
     },
     "execution_count": 127,
     "metadata": {},
     "output_type": "execute_result"
    }
   ],
   "source": [
    "eff_diab_data.head()"
   ]
  },
  {
   "cell_type": "code",
   "execution_count": 128,
   "metadata": {},
   "outputs": [
    {
     "name": "stdout",
     "output_type": "stream",
     "text": [
      "<class 'pandas.core.frame.DataFrame'>\n",
      "Int64Index: 26820 entries, 3 to 101764\n",
      "Data columns (total 22 columns):\n",
      "encounter_id                26820 non-null object\n",
      "patient_nbr                 26820 non-null object\n",
      "race                        26820 non-null object\n",
      "gender                      26820 non-null object\n",
      "age                         26820 non-null object\n",
      "admission_type_id           26820 non-null object\n",
      "discharge_disposition_id    26820 non-null object\n",
      "admission_source_id         26820 non-null object\n",
      "time_in_hospital            26820 non-null object\n",
      "number_diagnoses            26820 non-null object\n",
      "num_lab_procedures          26820 non-null object\n",
      "num_procedures              26820 non-null object\n",
      "num_medications             26820 non-null object\n",
      "number_outpatient           26820 non-null object\n",
      "number_emergency            26820 non-null object\n",
      "number_inpatient            26820 non-null object\n",
      "max_glu_serum               26820 non-null object\n",
      "A1Cresult                   26820 non-null object\n",
      "change                      26820 non-null object\n",
      "diabetesMed                 26820 non-null object\n",
      "readmitted                  26820 non-null object\n",
      "treatments                  26820 non-null object\n",
      "dtypes: object(22)\n",
      "memory usage: 4.7+ MB\n"
     ]
    }
   ],
   "source": [
    "eff_diab_data.info()"
   ]
  },
  {
   "cell_type": "markdown",
   "metadata": {},
   "source": [
    "# converting   age column to  numerical ( as age is categorical in it ) \n",
    "# label encoding since data is ordinal and values should maintain order."
   ]
  },
  {
   "cell_type": "code",
   "execution_count": 129,
   "metadata": {},
   "outputs": [
    {
     "name": "stderr",
     "output_type": "stream",
     "text": [
      "C:\\Users\\hp\\Anaconda3\\lib\\site-packages\\ipykernel_launcher.py:4: SettingWithCopyWarning: \n",
      "A value is trying to be set on a copy of a slice from a DataFrame.\n",
      "Try using .loc[row_indexer,col_indexer] = value instead\n",
      "\n",
      "See the caveats in the documentation: http://pandas.pydata.org/pandas-docs/stable/indexing.html#indexing-view-versus-copy\n",
      "  after removing the cwd from sys.path.\n"
     ]
    }
   ],
   "source": [
    "from sklearn.preprocessing import LabelEncoder\n",
    "\n",
    "le = LabelEncoder()\n",
    "eff_diab_data['age'] = le.fit_transform(eff_diab_data['age'])\n"
   ]
  },
  {
   "cell_type": "code",
   "execution_count": 130,
   "metadata": {},
   "outputs": [
    {
     "data": {
      "text/plain": [
       "<matplotlib.axes._subplots.AxesSubplot at 0x22750654da0>"
      ]
     },
     "execution_count": 130,
     "metadata": {},
     "output_type": "execute_result"
    },
    {
     "data": {
      "image/png": "[encoded data removed]",
      "text/plain": [
       "<Figure size 432x288 with 1 Axes>"
      ]
     },
     "metadata": {
      "needs_background": "light"
     },
     "output_type": "display_data"
    }
   ],
   "source": [
    "# Coverted age categorical data into numerical values\n",
    "eff_diab_data.age.value_counts().plot(kind='bar')"
   ]
  },
  {
   "cell_type": "markdown",
   "metadata": {},
   "source": [
    "# Second Step is converting treatment column with numerical values\n"
   ]
  },
  {
   "cell_type": "code",
   "execution_count": 131,
   "metadata": {},
   "outputs": [
    {
     "name": "stderr",
     "output_type": "stream",
     "text": [
      "C:\\Users\\hp\\Anaconda3\\lib\\site-packages\\pandas\\core\\generic.py:6586: SettingWithCopyWarning: \n",
      "A value is trying to be set on a copy of a slice from a DataFrame\n",
      "\n",
      "See the caveats in the documentation: http://pandas.pydata.org/pandas-docs/stable/indexing.html#indexing-view-versus-copy\n",
      "  self._update_inplace(new_data)\n"
     ]
    }
   ],
   "source": [
    "eff_diab_data.treatments.replace(['insulin','io'],[0,1],inplace=True)"
   ]
  },
  {
   "cell_type": "code",
   "execution_count": 132,
   "metadata": {},
   "outputs": [
    {
     "data": {
      "text/plain": [
       "<matplotlib.axes._subplots.AxesSubplot at 0x2272adab0b8>"
      ]
     },
     "execution_count": 132,
     "metadata": {},
     "output_type": "execute_result"
    },
    {
     "data": {
      "image/png": "[encoded data removed]",
      "text/plain": [
       "<Figure size 432x288 with 1 Axes>"
      ]
     },
     "metadata": {
      "needs_background": "light"
     },
     "output_type": "display_data"
    }
   ],
   "source": [
    "# Conveted treatment column with numerical values 0:Insulin,1: Insulin combination with other drugs\n",
    "eff_diab_data.treatments.value_counts().plot(kind='bar')"
   ]
  },
  {
   "cell_type": "code",
   "execution_count": 135,
   "metadata": {},
   "outputs": [
    {
     "data": {
      "text/html": [
       "<div>\n",
       "<style scoped>\n",
       "    .dataframe tbody tr th:only-of-type {\n",
       "        vertical-align: middle;\n",
       "    }\n",
       "\n",
       "    .dataframe tbody tr th {\n",
       "        vertical-align: top;\n",
       "    }\n",
       "\n",
       "    .dataframe thead th {\n",
       "        text-align: right;\n",
       "    }\n",
       "</style>\n",
       "<table border=\"1\" class=\"dataframe\">\n",
       "  <thead>\n",
       "    <tr style=\"text-align: right;\">\n",
       "      <th></th>\n",
       "      <th>encounter_id</th>\n",
       "      <th>patient_nbr</th>\n",
       "      <th>race</th>\n",
       "      <th>gender</th>\n",
       "      <th>age</th>\n",
       "      <th>admission_type_id</th>\n",
       "      <th>discharge_disposition_id</th>\n",
       "      <th>admission_source_id</th>\n",
       "      <th>time_in_hospital</th>\n",
       "      <th>number_diagnoses</th>\n",
       "      <th>...</th>\n",
       "      <th>num_medications</th>\n",
       "      <th>number_outpatient</th>\n",
       "      <th>number_emergency</th>\n",
       "      <th>number_inpatient</th>\n",
       "      <th>max_glu_serum</th>\n",
       "      <th>A1Cresult</th>\n",
       "      <th>change</th>\n",
       "      <th>diabetesMed</th>\n",
       "      <th>readmitted</th>\n",
       "      <th>treatments</th>\n",
       "    </tr>\n",
       "  </thead>\n",
       "  <tbody>\n",
       "    <tr>\n",
       "      <th>3</th>\n",
       "      <td>500364</td>\n",
       "      <td>82442376</td>\n",
       "      <td>Caucasian</td>\n",
       "      <td>Male</td>\n",
       "      <td>3</td>\n",
       "      <td>1</td>\n",
       "      <td>1</td>\n",
       "      <td>7</td>\n",
       "      <td>2</td>\n",
       "      <td>7</td>\n",
       "      <td>...</td>\n",
       "      <td>16</td>\n",
       "      <td>0</td>\n",
       "      <td>0</td>\n",
       "      <td>0</td>\n",
       "      <td>None</td>\n",
       "      <td>None</td>\n",
       "      <td>Ch</td>\n",
       "      <td>Yes</td>\n",
       "      <td>NO</td>\n",
       "      <td>0</td>\n",
       "    </tr>\n",
       "    <tr>\n",
       "      <th>4</th>\n",
       "      <td>16680</td>\n",
       "      <td>42519267</td>\n",
       "      <td>Caucasian</td>\n",
       "      <td>Male</td>\n",
       "      <td>4</td>\n",
       "      <td>1</td>\n",
       "      <td>1</td>\n",
       "      <td>7</td>\n",
       "      <td>1</td>\n",
       "      <td>5</td>\n",
       "      <td>...</td>\n",
       "      <td>8</td>\n",
       "      <td>0</td>\n",
       "      <td>0</td>\n",
       "      <td>0</td>\n",
       "      <td>None</td>\n",
       "      <td>None</td>\n",
       "      <td>Ch</td>\n",
       "      <td>Yes</td>\n",
       "      <td>NO</td>\n",
       "      <td>1</td>\n",
       "    </tr>\n",
       "    <tr>\n",
       "      <th>6</th>\n",
       "      <td>55842</td>\n",
       "      <td>84259809</td>\n",
       "      <td>Caucasian</td>\n",
       "      <td>Male</td>\n",
       "      <td>6</td>\n",
       "      <td>3</td>\n",
       "      <td>1</td>\n",
       "      <td>2</td>\n",
       "      <td>4</td>\n",
       "      <td>7</td>\n",
       "      <td>...</td>\n",
       "      <td>21</td>\n",
       "      <td>0</td>\n",
       "      <td>0</td>\n",
       "      <td>0</td>\n",
       "      <td>None</td>\n",
       "      <td>None</td>\n",
       "      <td>Ch</td>\n",
       "      <td>Yes</td>\n",
       "      <td>NO</td>\n",
       "      <td>1</td>\n",
       "    </tr>\n",
       "    <tr>\n",
       "      <th>8</th>\n",
       "      <td>12522</td>\n",
       "      <td>48330783</td>\n",
       "      <td>Caucasian</td>\n",
       "      <td>Female</td>\n",
       "      <td>8</td>\n",
       "      <td>2</td>\n",
       "      <td>1</td>\n",
       "      <td>4</td>\n",
       "      <td>13</td>\n",
       "      <td>8</td>\n",
       "      <td>...</td>\n",
       "      <td>28</td>\n",
       "      <td>0</td>\n",
       "      <td>0</td>\n",
       "      <td>0</td>\n",
       "      <td>None</td>\n",
       "      <td>None</td>\n",
       "      <td>Ch</td>\n",
       "      <td>Yes</td>\n",
       "      <td>NO</td>\n",
       "      <td>1</td>\n",
       "    </tr>\n",
       "    <tr>\n",
       "      <th>9</th>\n",
       "      <td>15738</td>\n",
       "      <td>63555939</td>\n",
       "      <td>Caucasian</td>\n",
       "      <td>Female</td>\n",
       "      <td>9</td>\n",
       "      <td>3</td>\n",
       "      <td>3</td>\n",
       "      <td>4</td>\n",
       "      <td>12</td>\n",
       "      <td>8</td>\n",
       "      <td>...</td>\n",
       "      <td>18</td>\n",
       "      <td>0</td>\n",
       "      <td>0</td>\n",
       "      <td>0</td>\n",
       "      <td>None</td>\n",
       "      <td>None</td>\n",
       "      <td>Ch</td>\n",
       "      <td>Yes</td>\n",
       "      <td>NO</td>\n",
       "      <td>1</td>\n",
       "    </tr>\n",
       "  </tbody>\n",
       "</table>\n",
       "<p>5 rows × 22 columns</p>\n",
       "</div>"
      ],
      "text/plain": [
       "  encounter_id patient_nbr       race  gender  age admission_type_id  \\\n",
       "3       500364    82442376  Caucasian    Male    3                 1   \n",
       "4        16680    42519267  Caucasian    Male    4                 1   \n",
       "6        55842    84259809  Caucasian    Male    6                 3   \n",
       "8        12522    48330783  Caucasian  Female    8                 2   \n",
       "9        15738    63555939  Caucasian  Female    9                 3   \n",
       "\n",
       "  discharge_disposition_id admission_source_id time_in_hospital  \\\n",
       "3                        1                   7                2   \n",
       "4                        1                   7                1   \n",
       "6                        1                   2                4   \n",
       "8                        1                   4               13   \n",
       "9                        3                   4               12   \n",
       "\n",
       "  number_diagnoses  ... num_medications number_outpatient number_emergency  \\\n",
       "3                7  ...              16                 0                0   \n",
       "4                5  ...               8                 0                0   \n",
       "6                7  ...              21                 0                0   \n",
       "8                8  ...              28                 0                0   \n",
       "9                8  ...              18                 0                0   \n",
       "\n",
       "  number_inpatient max_glu_serum A1Cresult change diabetesMed readmitted  \\\n",
       "3                0          None      None     Ch         Yes         NO   \n",
       "4                0          None      None     Ch         Yes         NO   \n",
       "6                0          None      None     Ch         Yes         NO   \n",
       "8                0          None      None     Ch         Yes         NO   \n",
       "9                0          None      None     Ch         Yes         NO   \n",
       "\n",
       "  treatments  \n",
       "3          0  \n",
       "4          1  \n",
       "6          1  \n",
       "8          1  \n",
       "9          1  \n",
       "\n",
       "[5 rows x 22 columns]"
      ]
     },
     "execution_count": 135,
     "metadata": {},
     "output_type": "execute_result"
    }
   ],
   "source": [
    "\n",
    "\n",
    "eff_diab_data.head()\n",
    "\n"
   ]
  },
  {
   "cell_type": "code",
   "execution_count": 134,
   "metadata": {},
   "outputs": [
    {
     "name": "stdout",
     "output_type": "stream",
     "text": [
      "<class 'pandas.core.frame.DataFrame'>\n",
      "Int64Index: 26820 entries, 3 to 101764\n",
      "Data columns (total 22 columns):\n",
      "encounter_id                26820 non-null object\n",
      "patient_nbr                 26820 non-null object\n",
      "race                        26820 non-null object\n",
      "gender                      26820 non-null object\n",
      "age                         26820 non-null int32\n",
      "admission_type_id           26820 non-null object\n",
      "discharge_disposition_id    26820 non-null object\n",
      "admission_source_id         26820 non-null object\n",
      "time_in_hospital            26820 non-null object\n",
      "number_diagnoses            26820 non-null object\n",
      "num_lab_procedures          26820 non-null object\n",
      "num_procedures              26820 non-null object\n",
      "num_medications             26820 non-null object\n",
      "number_outpatient           26820 non-null object\n",
      "number_emergency            26820 non-null object\n",
      "number_inpatient            26820 non-null object\n",
      "max_glu_serum               26820 non-null object\n",
      "A1Cresult                   26820 non-null object\n",
      "change                      26820 non-null object\n",
      "diabetesMed                 26820 non-null object\n",
      "readmitted                  26820 non-null object\n",
      "treatments                  26820 non-null int64\n",
      "dtypes: int32(1), int64(1), object(20)\n",
      "memory usage: 4.6+ MB\n"
     ]
    }
   ],
   "source": [
    "eff_diab_data.info()\n"
   ]
  },
  {
   "cell_type": "code",
   "execution_count": 137,
   "metadata": {},
   "outputs": [
    {
     "name": "stderr",
     "output_type": "stream",
     "text": [
      "C:\\Users\\hp\\Anaconda3\\lib\\site-packages\\pandas\\core\\frame.py:3391: SettingWithCopyWarning: \n",
      "A value is trying to be set on a copy of a slice from a DataFrame.\n",
      "Try using .loc[row_indexer,col_indexer] = value instead\n",
      "\n",
      "See the caveats in the documentation: http://pandas.pydata.org/pandas-docs/stable/indexing.html#indexing-view-versus-copy\n",
      "  self[k1] = value[k2]\n"
     ]
    }
   ],
   "source": [
    " #Converting numeric colums to interger data type since data is in object data type\n",
    "eff_diab_data[['encounter_id', 'patient_nbr','admission_type_id', 'discharge_disposition_id', 'admission_source_id','time_in_hospital', 'number_diagnoses', 'num_lab_procedures','num_procedures','num_medications', 'number_outpatient','number_emergency', 'number_inpatient']]=eff_diab_data[['encounter_id', 'patient_nbr','admission_type_id', 'discharge_disposition_id', 'admission_source_id','time_in_hospital', 'number_diagnoses', 'num_lab_procedures','num_procedures','num_medications', 'number_outpatient','number_emergency', 'number_inpatient']].astype('int64')\n"
   ]
  },
  {
   "cell_type": "code",
   "execution_count": 138,
   "metadata": {},
   "outputs": [
    {
     "data": {
      "text/html": [
       "<div>\n",
       "<style scoped>\n",
       "    .dataframe tbody tr th:only-of-type {\n",
       "        vertical-align: middle;\n",
       "    }\n",
       "\n",
       "    .dataframe tbody tr th {\n",
       "        vertical-align: top;\n",
       "    }\n",
       "\n",
       "    .dataframe thead th {\n",
       "        text-align: right;\n",
       "    }\n",
       "</style>\n",
       "<table border=\"1\" class=\"dataframe\">\n",
       "  <thead>\n",
       "    <tr style=\"text-align: right;\">\n",
       "      <th></th>\n",
       "      <th>encounter_id</th>\n",
       "      <th>patient_nbr</th>\n",
       "      <th>age</th>\n",
       "      <th>admission_type_id</th>\n",
       "      <th>discharge_disposition_id</th>\n",
       "      <th>admission_source_id</th>\n",
       "      <th>time_in_hospital</th>\n",
       "      <th>number_diagnoses</th>\n",
       "      <th>num_lab_procedures</th>\n",
       "      <th>num_procedures</th>\n",
       "      <th>...</th>\n",
       "      <th>max_glu_serum_None</th>\n",
       "      <th>max_glu_serum_Norm</th>\n",
       "      <th>A1Cresult_&gt;7</th>\n",
       "      <th>A1Cresult_&gt;8</th>\n",
       "      <th>A1Cresult_None</th>\n",
       "      <th>A1Cresult_Norm</th>\n",
       "      <th>change_Ch</th>\n",
       "      <th>change_No</th>\n",
       "      <th>diabetesMed_Yes</th>\n",
       "      <th>readmitted_NO</th>\n",
       "    </tr>\n",
       "  </thead>\n",
       "  <tbody>\n",
       "    <tr>\n",
       "      <th>3</th>\n",
       "      <td>500364</td>\n",
       "      <td>82442376</td>\n",
       "      <td>3</td>\n",
       "      <td>1</td>\n",
       "      <td>1</td>\n",
       "      <td>7</td>\n",
       "      <td>2</td>\n",
       "      <td>7</td>\n",
       "      <td>44</td>\n",
       "      <td>1</td>\n",
       "      <td>...</td>\n",
       "      <td>1</td>\n",
       "      <td>0</td>\n",
       "      <td>0</td>\n",
       "      <td>0</td>\n",
       "      <td>1</td>\n",
       "      <td>0</td>\n",
       "      <td>1</td>\n",
       "      <td>0</td>\n",
       "      <td>1</td>\n",
       "      <td>1</td>\n",
       "    </tr>\n",
       "    <tr>\n",
       "      <th>4</th>\n",
       "      <td>16680</td>\n",
       "      <td>42519267</td>\n",
       "      <td>4</td>\n",
       "      <td>1</td>\n",
       "      <td>1</td>\n",
       "      <td>7</td>\n",
       "      <td>1</td>\n",
       "      <td>5</td>\n",
       "      <td>51</td>\n",
       "      <td>0</td>\n",
       "      <td>...</td>\n",
       "      <td>1</td>\n",
       "      <td>0</td>\n",
       "      <td>0</td>\n",
       "      <td>0</td>\n",
       "      <td>1</td>\n",
       "      <td>0</td>\n",
       "      <td>1</td>\n",
       "      <td>0</td>\n",
       "      <td>1</td>\n",
       "      <td>1</td>\n",
       "    </tr>\n",
       "    <tr>\n",
       "      <th>6</th>\n",
       "      <td>55842</td>\n",
       "      <td>84259809</td>\n",
       "      <td>6</td>\n",
       "      <td>3</td>\n",
       "      <td>1</td>\n",
       "      <td>2</td>\n",
       "      <td>4</td>\n",
       "      <td>7</td>\n",
       "      <td>70</td>\n",
       "      <td>1</td>\n",
       "      <td>...</td>\n",
       "      <td>1</td>\n",
       "      <td>0</td>\n",
       "      <td>0</td>\n",
       "      <td>0</td>\n",
       "      <td>1</td>\n",
       "      <td>0</td>\n",
       "      <td>1</td>\n",
       "      <td>0</td>\n",
       "      <td>1</td>\n",
       "      <td>1</td>\n",
       "    </tr>\n",
       "    <tr>\n",
       "      <th>8</th>\n",
       "      <td>12522</td>\n",
       "      <td>48330783</td>\n",
       "      <td>8</td>\n",
       "      <td>2</td>\n",
       "      <td>1</td>\n",
       "      <td>4</td>\n",
       "      <td>13</td>\n",
       "      <td>8</td>\n",
       "      <td>68</td>\n",
       "      <td>2</td>\n",
       "      <td>...</td>\n",
       "      <td>1</td>\n",
       "      <td>0</td>\n",
       "      <td>0</td>\n",
       "      <td>0</td>\n",
       "      <td>1</td>\n",
       "      <td>0</td>\n",
       "      <td>1</td>\n",
       "      <td>0</td>\n",
       "      <td>1</td>\n",
       "      <td>1</td>\n",
       "    </tr>\n",
       "    <tr>\n",
       "      <th>9</th>\n",
       "      <td>15738</td>\n",
       "      <td>63555939</td>\n",
       "      <td>9</td>\n",
       "      <td>3</td>\n",
       "      <td>3</td>\n",
       "      <td>4</td>\n",
       "      <td>12</td>\n",
       "      <td>8</td>\n",
       "      <td>33</td>\n",
       "      <td>3</td>\n",
       "      <td>...</td>\n",
       "      <td>1</td>\n",
       "      <td>0</td>\n",
       "      <td>0</td>\n",
       "      <td>0</td>\n",
       "      <td>1</td>\n",
       "      <td>0</td>\n",
       "      <td>1</td>\n",
       "      <td>0</td>\n",
       "      <td>1</td>\n",
       "      <td>1</td>\n",
       "    </tr>\n",
       "  </tbody>\n",
       "</table>\n",
       "<p>5 rows × 34 columns</p>\n",
       "</div>"
      ],
      "text/plain": [
       "   encounter_id  patient_nbr  age  admission_type_id  \\\n",
       "3        500364     82442376    3                  1   \n",
       "4         16680     42519267    4                  1   \n",
       "6         55842     84259809    6                  3   \n",
       "8         12522     48330783    8                  2   \n",
       "9         15738     63555939    9                  3   \n",
       "\n",
       "   discharge_disposition_id  admission_source_id  time_in_hospital  \\\n",
       "3                         1                    7                 2   \n",
       "4                         1                    7                 1   \n",
       "6                         1                    2                 4   \n",
       "8                         1                    4                13   \n",
       "9                         3                    4                12   \n",
       "\n",
       "   number_diagnoses  num_lab_procedures  num_procedures  ...  \\\n",
       "3                 7                  44               1  ...   \n",
       "4                 5                  51               0  ...   \n",
       "6                 7                  70               1  ...   \n",
       "8                 8                  68               2  ...   \n",
       "9                 8                  33               3  ...   \n",
       "\n",
       "   max_glu_serum_None  max_glu_serum_Norm  A1Cresult_>7  A1Cresult_>8  \\\n",
       "3                   1                   0             0             0   \n",
       "4                   1                   0             0             0   \n",
       "6                   1                   0             0             0   \n",
       "8                   1                   0             0             0   \n",
       "9                   1                   0             0             0   \n",
       "\n",
       "   A1Cresult_None  A1Cresult_Norm  change_Ch  change_No  diabetesMed_Yes  \\\n",
       "3               1               0          1          0                1   \n",
       "4               1               0          1          0                1   \n",
       "6               1               0          1          0                1   \n",
       "8               1               0          1          0                1   \n",
       "9               1               0          1          0                1   \n",
       "\n",
       "   readmitted_NO  \n",
       "3              1  \n",
       "4              1  \n",
       "6              1  \n",
       "8              1  \n",
       "9              1  \n",
       "\n",
       "[5 rows x 34 columns]"
      ]
     },
     "execution_count": 138,
     "metadata": {},
     "output_type": "execute_result"
    }
   ],
   "source": [
    "# Creating new columns using get dummies for nominal data which helps in intrepretability of the model.\n",
    "data_model=pd.get_dummies(eff_diab_data)\n",
    "data_model.head()"
   ]
  },
  {
   "cell_type": "markdown",
   "metadata": {},
   "source": [
    "Sincewe  don't have any domain expertise identifying the potential input variables is a challenging part.\n",
    "\n",
    "Since the data is mostly of input of categorical data and output column is categorical it is suggested to perform chisquare test to check the statistical importance of each variable to choose potential input variables.\n",
    "## Let's Perform CHI-SQUARE TEST OF INDEPENDENCE"
   ]
  },
  {
   "cell_type": "code",
   "execution_count": 143,
   "metadata": {},
   "outputs": [],
   "source": [
    "import scipy.stats as stats\n",
    "from scipy.stats import chi2_contingency\n",
    "\n",
    "class ChiSquare:\n",
    "    def __init__(self, dataframe):\n",
    "        self.df = dataframe\n",
    "        self.p = None #P-Value\n",
    "        self.chi2 = None #Chi Test Statistic\n",
    "        self.dof = None\n",
    "        \n",
    "        self.dfObserved = None\n",
    "        self.dfExpected = None\n",
    "        \n",
    "    def _print_chisquare_result(self, colX, alpha):\n",
    "        result = \"\"\n",
    "        if self.p<alpha:\n",
    "            result=\"{0} is IMPORTANT for Prediction\".format(colX)\n",
    "        else:\n",
    "            result=\"{0} is NOT an important predictor. (Discard {0} from model)\".format(colX)\n",
    "\n",
    "        print(result)\n",
    "        \n",
    "    def TestIndependence(self,colX,colY, alpha=0.05):\n",
    "        X = self.df[colX].astype(str)\n",
    "        Y = self.df[colY].astype(str)\n",
    "        \n",
    "        self.dfObserved = pd.crosstab(Y,X) \n",
    "        chi2, p, dof, expected = stats.chi2_contingency(self.dfObserved.values)\n",
    "        self.p = p\n",
    "        self.chi2 = chi2\n",
    "        self.dof = dof \n",
    "        \n",
    "        self.dfExpected = pd.DataFrame(expected, columns=self.dfObserved.columns, index = self.dfObserved.index)\n",
    "        \n",
    "        self._print_chisquare_result(colX,alpha)\n",
    "        "
   ]
  },
  {
   "cell_type": "code",
   "execution_count": 144,
   "metadata": {},
   "outputs": [
    {
     "data": {
      "text/plain": [
       "0    13438\n",
       "1    13382\n",
       "Name: dummyCat, dtype: int64"
      ]
     },
     "execution_count": 144,
     "metadata": {},
     "output_type": "execute_result"
    }
   ],
   "source": [
    "#Introducing some random numbers and checking weather the test is performing correctly or not on given data\n",
    "data_model['dummyCat'] = np.random.choice([0, 1], size=(len(data_model),), p=[0.5, 0.5])\n",
    "data_model.dummyCat.value_counts()"
   ]
  },
  {
   "cell_type": "code",
   "execution_count": 145,
   "metadata": {},
   "outputs": [
    {
     "name": "stdout",
     "output_type": "stream",
     "text": [
      "encounter_id is NOT an important predictor. (Discard encounter_id from model)\n",
      "patient_nbr is NOT an important predictor. (Discard patient_nbr from model)\n",
      "age is IMPORTANT for Prediction\n",
      "admission_type_id is IMPORTANT for Prediction\n",
      "discharge_disposition_id is IMPORTANT for Prediction\n",
      "admission_source_id is IMPORTANT for Prediction\n",
      "time_in_hospital is IMPORTANT for Prediction\n",
      "num_lab_procedures is NOT an important predictor. (Discard num_lab_procedures from model)\n",
      "num_procedures is IMPORTANT for Prediction\n",
      "num_medications is IMPORTANT for Prediction\n",
      "number_outpatient is NOT an important predictor. (Discard number_outpatient from model)\n",
      "number_emergency is NOT an important predictor. (Discard number_emergency from model)\n",
      "number_inpatient is IMPORTANT for Prediction\n",
      "race_AfricanAmerican is IMPORTANT for Prediction\n",
      "race_Asian is NOT an important predictor. (Discard race_Asian from model)\n",
      "race_Caucasian is IMPORTANT for Prediction\n",
      "race_Hispanic is IMPORTANT for Prediction\n",
      "race_Other is NOT an important predictor. (Discard race_Other from model)\n",
      "gender_Female is IMPORTANT for Prediction\n",
      "gender_Male is IMPORTANT for Prediction\n",
      "max_glu_serum_>200 is NOT an important predictor. (Discard max_glu_serum_>200 from model)\n",
      "max_glu_serum_>300 is IMPORTANT for Prediction\n",
      "max_glu_serum_None is IMPORTANT for Prediction\n",
      "max_glu_serum_Norm is IMPORTANT for Prediction\n",
      "A1Cresult_>7 is IMPORTANT for Prediction\n",
      "A1Cresult_>8 is NOT an important predictor. (Discard A1Cresult_>8 from model)\n",
      "A1Cresult_None is IMPORTANT for Prediction\n",
      "A1Cresult_Norm is NOT an important predictor. (Discard A1Cresult_Norm from model)\n",
      "change_Ch is IMPORTANT for Prediction\n",
      "change_No is IMPORTANT for Prediction\n",
      "diabetesMed_Yes is NOT an important predictor. (Discard diabetesMed_Yes from model)\n",
      "readmitted_NO is NOT an important predictor. (Discard readmitted_NO from model)\n",
      "dummyCat is NOT an important predictor. (Discard dummyCat from model)\n"
     ]
    }
   ],
   "source": [
    "#Initialize ChiSquare Class\n",
    "cT = ChiSquare(data_model)\n",
    "\n",
    "#Feature Selection\n",
    "testColumns = ['encounter_id', 'patient_nbr', 'age', 'admission_type_id',\n",
    "       'discharge_disposition_id', 'admission_source_id', 'time_in_hospital',\n",
    "       'num_lab_procedures', 'num_procedures', 'num_medications',\n",
    "       'number_outpatient', 'number_emergency', 'number_inpatient',\n",
    "        'race_AfricanAmerican', 'race_Asian', 'race_Caucasian',\n",
    "       'race_Hispanic', 'race_Other', 'gender_Female', 'gender_Male',\n",
    "       'max_glu_serum_>200', 'max_glu_serum_>300', 'max_glu_serum_None',\n",
    "       'max_glu_serum_Norm', 'A1Cresult_>7', 'A1Cresult_>8', 'A1Cresult_None',\n",
    "       'A1Cresult_Norm', 'change_Ch', 'change_No', 'diabetesMed_Yes',\n",
    "       'readmitted_NO','dummyCat']\n",
    "for var in testColumns:\n",
    "    cT.TestIndependence(colX=var,colY=\"treatments\" )"
   ]
  },
  {
   "cell_type": "markdown",
   "metadata": {},
   "source": [
    "# It is evident that the randomly introduced dummy cat is not an imporatant input variable and in chisquare test it results to discard the varible from model.\n",
    "\n",
    "# Since there is no Domain Expertise taking all input variables as per statistical importance"
   ]
  },
  {
   "cell_type": "markdown",
   "metadata": {},
   "source": [
    "# Model Building for predicting effective diabetic treatment based on characteristics of patient¶\n"
   ]
  },
  {
   "cell_type": "code",
   "execution_count": 146,
   "metadata": {},
   "outputs": [],
   "source": [
    "from sklearn.model_selection import train_test_split\n",
    "from sklearn.linear_model import LogisticRegression\n",
    "from sklearn.neighbors import KNeighborsClassifier\n",
    "from sklearn.naive_bayes import MultinomialNB,GaussianNB,BernoulliNB\n",
    "from sklearn.tree import DecisionTreeClassifier\n",
    "from sklearn.ensemble import RandomForestClassifier\n",
    "from sklearn.metrics import accuracy_score,confusion_matrix,classification_report\n",
    "from sklearn.svm import SVC"
   ]
  },
  {
   "cell_type": "code",
   "execution_count": 147,
   "metadata": {},
   "outputs": [],
   "source": [
    "X = data_model.drop(['encounter_id','patient_nbr','age','num_lab_procedures','number_outpatient','number_emergency',\n",
    "                      'race_Asian','race_Other','diabetesMed_Yes','max_glu_serum_>200','A1Cresult_>8','A1Cresult_Norm',\n",
    "                      'readmitted_NO','dummyCat','treatments','dummyCat'],axis=1)\n",
    "y=data_model['treatments']\n"
   ]
  },
  {
   "cell_type": "code",
   "execution_count": 148,
   "metadata": {},
   "outputs": [
    {
     "data": {
      "text/plain": [
       "((18774, 20), (8046, 20), (18774,), (8046,))"
      ]
     },
     "execution_count": 148,
     "metadata": {},
     "output_type": "execute_result"
    }
   ],
   "source": [
    "X_train, X_test, y_train, y_test = train_test_split(X, y, test_size=0.3, random_state=2)\n",
    "X_train.shape,X_test.shape,y_train.shape,y_test.shape\n"
   ]
  },
  {
   "cell_type": "code",
   "execution_count": 149,
   "metadata": {},
   "outputs": [
    {
     "name": "stdout",
     "output_type": "stream",
     "text": [
      "BaseLine Accuracy : 0.5437484464330102\n"
     ]
    }
   ],
   "source": [
    "y_p=[]\n",
    "for i in range(y_test.shape[0]):\n",
    "    y_p.append(y_test.mode()[0])#Highest class is assigned to a list which is compared with ytest\n",
    "y_pred=pd.Series(y_p)\n",
    "print('BaseLine Accuracy :',accuracy_score(y_test,y_pred))"
   ]
  },
  {
   "cell_type": "markdown",
   "metadata": {},
   "source": [
    "Baseline accuracy given by the data is 54.3% and if model is build then the model should have high accuracy than baseline accuracy"
   ]
  },
  {
   "cell_type": "code",
   "execution_count": 150,
   "metadata": {},
   "outputs": [],
   "source": [
    "model_lr = LogisticRegression(solver='liblinear')\n",
    "model_lr.fit(X_train,y_train)\n",
    "y_pred_lr = model_lr.predict(X_test)\n"
   ]
  },
  {
   "cell_type": "code",
   "execution_count": 151,
   "metadata": {},
   "outputs": [
    {
     "name": "stdout",
     "output_type": "stream",
     "text": [
      "............. LOGISTIC REGRESSION METRICS ...............\n",
      "Training Accuracy : 0.7646745499094493\n",
      "Testing Accuracy  : 0.7587621178225205\n",
      "[[2508 1867]\n",
      " [  74 3597]]\n",
      "              precision    recall  f1-score   support\n",
      "\n",
      "           0       0.97      0.57      0.72      4375\n",
      "           1       0.66      0.98      0.79      3671\n",
      "\n",
      "   micro avg       0.76      0.76      0.76      8046\n",
      "   macro avg       0.81      0.78      0.75      8046\n",
      "weighted avg       0.83      0.76      0.75      8046\n",
      "\n"
     ]
    }
   ],
   "source": [
    "traning_acc_lr = model_lr.score(X_train,y_train)\n",
    "testing_acc_lr = accuracy_score(y_test,y_pred_lr)\n",
    "print('............. LOGISTIC REGRESSION METRICS ...............')\n",
    "print('Training Accuracy :',traning_acc_lr)\n",
    "print('Testing Accuracy  :',testing_acc_lr)\n",
    "print(confusion_matrix(y_test,y_pred_lr))\n",
    "print(classification_report(y_test,y_pred_lr))"
   ]
  },
  {
   "cell_type": "code",
   "execution_count": 153,
   "metadata": {},
   "outputs": [],
   "source": [
    "# K nearest neighbours\n",
    "model_knn = KNeighborsClassifier()\n",
    "model_knn.fit(X_train,y_train)\n",
    "y_pred_knn = model_knn.predict(X_test)"
   ]
  },
  {
   "cell_type": "code",
   "execution_count": 154,
   "metadata": {},
   "outputs": [
    {
     "name": "stdout",
     "output_type": "stream",
     "text": [
      "............. K-Nearest Neighbours METRICS ...............\n",
      "Training Accuracy : 0.7988175135826142\n",
      "Testing Accuracy  : 0.6713895103156848\n",
      "[[2830 1545]\n",
      " [1099 2572]]\n",
      "              precision    recall  f1-score   support\n",
      "\n",
      "           0       0.72      0.65      0.68      4375\n",
      "           1       0.62      0.70      0.66      3671\n",
      "\n",
      "   micro avg       0.67      0.67      0.67      8046\n",
      "   macro avg       0.67      0.67      0.67      8046\n",
      "weighted avg       0.68      0.67      0.67      8046\n",
      "\n"
     ]
    }
   ],
   "source": [
    "traning_acc_knn = model_knn.score(X_train,y_train)\n",
    "testing_acc_knn = accuracy_score(y_test,y_pred_knn)\n",
    "print('............. K-Nearest Neighbours METRICS ...............')\n",
    "print('Training Accuracy :',traning_acc_knn)\n",
    "print('Testing Accuracy  :',testing_acc_knn)\n",
    "print(confusion_matrix(y_test,y_pred_knn))\n",
    "print(classification_report(y_test,y_pred_knn))"
   ]
  },
  {
   "cell_type": "markdown",
   "metadata": {},
   "source": [
    "# Bernoulli Naive Bayes"
   ]
  },
  {
   "cell_type": "code",
   "execution_count": 157,
   "metadata": {},
   "outputs": [],
   "source": [
    "model_bnb = BernoulliNB()\n",
    "model_bnb.fit(X_train,y_train)\n",
    "y_pred_bnb = model_bnb.predict(X_test)"
   ]
  },
  {
   "cell_type": "code",
   "execution_count": 160,
   "metadata": {},
   "outputs": [
    {
     "name": "stdout",
     "output_type": "stream",
     "text": [
      "Training Accuracy : 0.7635559816767871\n",
      "Testing Accuracy  : 0.7555306984837186\n",
      "[[2408 1967]\n",
      " [   0 3671]]\n",
      "              precision    recall  f1-score   support\n",
      "\n",
      "           0       1.00      0.55      0.71      4375\n",
      "           1       0.65      1.00      0.79      3671\n",
      "\n",
      "   micro avg       0.76      0.76      0.76      8046\n",
      "   macro avg       0.83      0.78      0.75      8046\n",
      "weighted avg       0.84      0.76      0.75      8046\n",
      "\n"
     ]
    }
   ],
   "source": [
    "traning_acc_bnb = model_bnb.score(X_train,y_train)\n",
    "testing_acc_bnb = accuracy_score(y_test,y_pred_bnb)\n",
    "print('Training Accuracy :',traning_acc_bnb)\n",
    "print('Testing Accuracy  :',testing_acc_bnb)\n",
    "print(confusion_matrix(y_test,y_pred_bnb))\n",
    "print(classification_report(y_test,y_pred_bnb))"
   ]
  },
  {
   "cell_type": "code",
   "execution_count": 161,
   "metadata": {},
   "outputs": [],
   "source": [
    "model_dt = DecisionTreeClassifier()\n",
    "model_dt.fit(X_train,y_train)\n",
    "y_pred_dt = model_dt.predict(X_test)"
   ]
  },
  {
   "cell_type": "code",
   "execution_count": 162,
   "metadata": {},
   "outputs": [
    {
     "name": "stdout",
     "output_type": "stream",
     "text": [
      "............. Decision Tree METRICS ...............\n",
      "Training Accuracy : 0.9871630979013529\n",
      "Testing Accuracy  : 0.6911508824260502\n",
      "[[3189 1186]\n",
      " [1299 2372]]\n",
      "              precision    recall  f1-score   support\n",
      "\n",
      "           0       0.71      0.73      0.72      4375\n",
      "           1       0.67      0.65      0.66      3671\n",
      "\n",
      "   micro avg       0.69      0.69      0.69      8046\n",
      "   macro avg       0.69      0.69      0.69      8046\n",
      "weighted avg       0.69      0.69      0.69      8046\n",
      "\n"
     ]
    }
   ],
   "source": [
    "traning_acc_dt = model_dt.score(X_train,y_train)\n",
    "testing_acc_dt = accuracy_score(y_test,y_pred_dt)\n",
    "print('............. Decision Tree METRICS ...............')\n",
    "print('Training Accuracy :',traning_acc_dt)\n",
    "print('Testing Accuracy  :',testing_acc_dt)\n",
    "print(confusion_matrix(y_test,y_pred_dt))\n",
    "print(classification_report(y_test,y_pred_dt))"
   ]
  },
  {
   "cell_type": "markdown",
   "metadata": {},
   "source": [
    "# Random forest"
   ]
  },
  {
   "cell_type": "code",
   "execution_count": 163,
   "metadata": {},
   "outputs": [
    {
     "name": "stderr",
     "output_type": "stream",
     "text": [
      "C:\\Users\\hp\\Anaconda3\\lib\\site-packages\\sklearn\\ensemble\\forest.py:246: FutureWarning: The default value of n_estimators will change from 10 in version 0.20 to 100 in 0.22.\n",
      "  \"10 in version 0.20 to 100 in 0.22.\", FutureWarning)\n"
     ]
    }
   ],
   "source": [
    "model_rf = RandomForestClassifier()\n",
    "model_rf.fit(X_train,y_train)\n",
    "y_pred_rf = model_rf.predict(X_test)"
   ]
  },
  {
   "cell_type": "code",
   "execution_count": 165,
   "metadata": {},
   "outputs": [
    {
     "name": "stdout",
     "output_type": "stream",
     "text": [
      "............. Random Forest METRICS ...............\n",
      "Training Accuracy : 0.9778416959625014\n",
      "Testing Accuracy  : 0.7140193885160329\n",
      "[[3067 1308]\n",
      " [ 993 2678]]\n",
      "              precision    recall  f1-score   support\n",
      "\n",
      "           0       0.76      0.70      0.73      4375\n",
      "           1       0.67      0.73      0.70      3671\n",
      "\n",
      "   micro avg       0.71      0.71      0.71      8046\n",
      "   macro avg       0.71      0.72      0.71      8046\n",
      "weighted avg       0.72      0.71      0.71      8046\n",
      "\n"
     ]
    }
   ],
   "source": [
    "traning_acc_rf = model_rf.score(X_train,y_train)\n",
    "testing_acc_rf = accuracy_score(y_test,y_pred_rf)\n",
    "print('............. Random Forest METRICS ...............')\n",
    "print('Training Accuracy :',traning_acc_rf)\n",
    "print('Testing Accuracy  :',testing_acc_rf)\n",
    "print(confusion_matrix(y_test,y_pred_rf))\n",
    "print(classification_report(y_test,y_pred_rf))"
   ]
  },
  {
   "cell_type": "markdown",
   "metadata": {},
   "source": [
    "# hyper parameter tunning \n",
    " Grid Search cv \n",
    " Tunned KNN \n",
    " "
   ]
  },
  {
   "cell_type": "code",
   "execution_count": 169,
   "metadata": {},
   "outputs": [
    {
     "name": "stdout",
     "output_type": "stream",
     "text": [
      "Tuned Hyperparameter k: {'n_neighbors': 39}\n"
     ]
    }
   ],
   "source": [
    "from sklearn.model_selection import KFold\n",
    "from sklearn.model_selection import GridSearchCV\n",
    "\n",
    "grid = {'n_neighbors':np.arange(1,50)}\n",
    "knn=KNeighborsClassifier()\n",
    "knn_cv=GridSearchCV(knn,grid,cv=3)\n",
    "knn_cv.fit(X_train,y_train)\n",
    "print(\"Tuned Hyperparameter k: {}\".format(knn_cv.best_params_))"
   ]
  },
  {
   "cell_type": "code",
   "execution_count": 170,
   "metadata": {},
   "outputs": [],
   "source": [
    "from sklearn.model_selection import KFold\n",
    "from sklearn.model_selection import GridSearchCV"
   ]
  },
  {
   "cell_type": "code",
   "execution_count": 172,
   "metadata": {},
   "outputs": [],
   "source": [
    "model_tknn = KNeighborsClassifier(n_neighbors=39)\n",
    "model_tknn.fit(X_train,y_train)\n",
    "y_pred_tknn=model_tknn.predict(X_test)"
   ]
  },
  {
   "cell_type": "code",
   "execution_count": 173,
   "metadata": {},
   "outputs": [
    {
     "name": "stdout",
     "output_type": "stream",
     "text": [
      "............. Tunned K Nearest Neighbours METRICS ...............\n",
      "Training Accuracy : 0.7241930329178652\n",
      "Testing Accuracy  : 0.693636589609744\n",
      "[[2844 1531]\n",
      " [ 934 2737]]\n",
      "              precision    recall  f1-score   support\n",
      "\n",
      "           0       0.75      0.65      0.70      4375\n",
      "           1       0.64      0.75      0.69      3671\n",
      "\n",
      "   micro avg       0.69      0.69      0.69      8046\n",
      "   macro avg       0.70      0.70      0.69      8046\n",
      "weighted avg       0.70      0.69      0.69      8046\n",
      "\n"
     ]
    }
   ],
   "source": [
    "traning_acc_tknn = model_tknn.score(X_train,y_train)\n",
    "testing_acc_tknn = accuracy_score(y_test,y_pred_tknn)\n",
    "print('............. Tunned K Nearest Neighbours METRICS ...............')\n",
    "print('Training Accuracy :',traning_acc_tknn)\n",
    "print('Testing Accuracy  :',testing_acc_tknn)\n",
    "print(confusion_matrix(y_test,y_pred_tknn))\n",
    "print(classification_report(y_test,y_pred_tknn))"
   ]
  },
  {
   "cell_type": "code",
   "execution_count": 179,
   "metadata": {},
   "outputs": [
    {
     "data": {
      "text/plain": [
       "{'criterion': 'entropy',\n",
       " 'max_depth': 5,\n",
       " 'min_samples_leaf': 50,\n",
       " 'min_samples_split': 50}"
      ]
     },
     "execution_count": 179,
     "metadata": {},
     "output_type": "execute_result"
    }
   ],
   "source": [
    "# GridSearchCV to find optimal max_depth\n",
    "# specify number of folds for k-fold CV\n",
    "n_folds = 3\n",
    "\n",
    "# parameters to build the model on\n",
    "parameters = {'max_depth': range(5, 15, 5),\n",
    "    'min_samples_leaf': range(50, 150, 50),\n",
    "    'min_samples_split': range(50, 150, 50),\n",
    "    'criterion': [\"entropy\", \"gini\"]}\n",
    "\n",
    "# instantiate the model\n",
    "dtree = DecisionTreeClassifier(random_state = 100)\n",
    "\n",
    "# fit tree on training data\n",
    "tree = GridSearchCV(dtree, parameters, \n",
    "                    cv=n_folds, \n",
    "                   scoring=\"accuracy\")\n",
    "tree.fit(X_train, y_train)\n",
    "tree.best_params_"
   ]
  },
  {
   "cell_type": "code",
   "execution_count": 180,
   "metadata": {},
   "outputs": [],
   "source": [
    "model_tdt = DecisionTreeClassifier(criterion='entropy',max_depth=5,min_samples_leaf=50,min_samples_split=50)\n",
    "model_tdt.fit(X_train,y_train)\n",
    "y_pred_tdt=model_tdt.predict(X_test)"
   ]
  },
  {
   "cell_type": "code",
   "execution_count": 181,
   "metadata": {},
   "outputs": [
    {
     "name": "stdout",
     "output_type": "stream",
     "text": [
      "............. Tunned Decision Tree METRICS ...............\n",
      "Training Accuracy : 0.7669116863747736\n",
      "Testing Accuracy  : 0.7564006959980114\n",
      "[[2515 1860]\n",
      " [ 100 3571]]\n",
      "              precision    recall  f1-score   support\n",
      "\n",
      "           0       0.96      0.57      0.72      4375\n",
      "           1       0.66      0.97      0.78      3671\n",
      "\n",
      "   micro avg       0.76      0.76      0.76      8046\n",
      "   macro avg       0.81      0.77      0.75      8046\n",
      "weighted avg       0.82      0.76      0.75      8046\n",
      "\n"
     ]
    }
   ],
   "source": [
    "training_acc_tdt = model_tdt.score(X_train,y_train)\n",
    "testing_acc_tdt = accuracy_score(y_test,y_pred_tdt)\n",
    "print('............. Tunned Decision Tree METRICS ...............')\n",
    "print('Training Accuracy :',training_acc_tdt)\n",
    "print('Testing Accuracy  :',testing_acc_tdt)\n",
    "print(confusion_matrix(y_test,y_pred_tdt))\n",
    "print(classification_report(y_test,y_pred_tdt))"
   ]
  },
  {
   "cell_type": "code",
   "execution_count": 188,
   "metadata": {},
   "outputs": [],
   "source": [
    "model_dt = DecisionTreeClassifier(max_depth=3,max_leaf_nodes=2)"
   ]
  },
  {
   "cell_type": "code",
   "execution_count": 190,
   "metadata": {},
   "outputs": [],
   "source": [
    "bagg = BaggingClassifier(model_dt,n_estimators=500,n_jobs=-1)"
   ]
  },
  {
   "cell_type": "code",
   "execution_count": 193,
   "metadata": {},
   "outputs": [],
   "source": [
    "bagg = bagg.fit(X_train,y_train)"
   ]
  },
  {
   "cell_type": "code",
   "execution_count": 197,
   "metadata": {},
   "outputs": [],
   "source": [
    "ypred = bagg.predict(X_test)"
   ]
  },
  {
   "cell_type": "code",
   "execution_count": 204,
   "metadata": {},
   "outputs": [
    {
     "name": "stdout",
     "output_type": "stream",
     "text": [
      "0.6911508824260502\n"
     ]
    }
   ],
   "source": [
    "from sklearn.metrics import accuracy_score\n",
    "print(accuracy_score(y_test,y_pred_dt))"
   ]
  },
  {
   "cell_type": "markdown",
   "metadata": {},
   "source": [
    "\n",
    "# TUNED RANDOM FOREST"
   ]
  },
  {
   "cell_type": "code",
   "execution_count": 183,
   "metadata": {},
   "outputs": [
    {
     "data": {
      "text/plain": [
       "GridSearchCV(cv=3, error_score='raise-deprecating',\n",
       "       estimator=RandomForestClassifier(bootstrap=True, class_weight=None, criterion='gini',\n",
       "            max_depth=None, max_features='auto', max_leaf_nodes=None,\n",
       "            min_impurity_decrease=0.0, min_impurity_split=None,\n",
       "            min_samples_leaf=1, min_samples_split=2,\n",
       "            min_weight_fraction_leaf=0.0, n_estimators='warn', n_jobs=None,\n",
       "            oob_score=False, random_state=42, verbose=0, warm_start=False),\n",
       "       fit_params=None, iid='warn', n_jobs=None,\n",
       "       param_grid={'n_estimators': array([  1,   2, ...,  99, 100])},\n",
       "       pre_dispatch='2*n_jobs', refit=True, return_train_score='warn',\n",
       "       scoring=None, verbose=0)"
      ]
     },
     "execution_count": 183,
     "metadata": {},
     "output_type": "execute_result"
    }
   ],
   "source": [
    "rfc=RandomForestClassifier(random_state=42)\n",
    "parameter={'n_estimators':np.arange(1,101)}\n",
    "CV_rfc = GridSearchCV(estimator=rfc, param_grid=parameter, cv= 3)\n",
    "CV_rfc.fit(X_train, y_train)"
   ]
  },
  {
   "cell_type": "code",
   "execution_count": null,
   "metadata": {},
   "outputs": [],
   "source": [
    "CV_rfc.best_params_\n"
   ]
  },
  {
   "cell_type": "code",
   "execution_count": null,
   "metadata": {},
   "outputs": [],
   "source": [
    "model_trf = RandomForestClassifier(n_estimators=59)\n",
    "model_trf.fit(X_train,y_train) \n",
    "y_pred_trf = model_trf.predict(X_test)"
   ]
  },
  {
   "cell_type": "code",
   "execution_count": null,
   "metadata": {},
   "outputs": [],
   "source": [
    "training_acc_trf = model_trf.score(X_train,y_train)\n",
    "testing_acc_trf = accuracy_score(y_test,y_pred_trf)\n",
    "print('............. Tunned Random Forest METRICS ...............')\n",
    "print('Training Accuracy :',training_acc_trf)\n",
    "print('Testing Accuracy  :',testing_acc_trf)\n",
    "print(confusion_matrix(y_test,y_pred_trf))\n",
    "print(classification_report(y_test,y_pred_trf))"
   ]
  },
  {
   "cell_type": "markdown",
   "metadata": {},
   "source": [
    "# SVM CLASSIFIER"
   ]
  },
  {
   "cell_type": "code",
   "execution_count": null,
   "metadata": {},
   "outputs": [],
   "source": [
    "model_svc = SVC(kernel='linear')\n",
    "model_svc.fit(X_train,y_train)\n",
    "y_pred_svc = model_svc.predict(X_test)"
   ]
  },
  {
   "cell_type": "code",
   "execution_count": null,
   "metadata": {},
   "outputs": [],
   "source": [
    "training_acc_svc = model_svc.score(X_train,y_train)\n",
    "testing_acc_svc = accuracy_score(y_test,y_pred_svc)\n",
    "print('............. Support Vector Classifier METRICS ...............')\n",
    "print('Training Accuracy :',training_acc_svc)\n",
    "print('Testing Accuracy  :',testing_acc_svc)\n",
    "print(confusion_matrix(y_test,y_pred_svc))\n",
    "print(classification_report(y_test,y_pred_svc))\n"
   ]
  },
  {
   "cell_type": "code",
   "execution_count": null,
   "metadata": {},
   "outputs": [],
   "source": []
  },
  {
   "cell_type": "markdown",
   "metadata": {},
   "source": [
    "From the above Models comparision Graph Comparing Training and Testing Accuracy of differnt models and found that Logistic Regression is performing better and is generalised model since the training and testing accuracy are almost similar.\n",
    "\n",
    "From Occam's razor rule it's the idea that the simplest and most direct solution should be preferred,So in this case simple model and given best accuracy is given by Logistic Regression.\n",
    "\n",
    "## So,Logistic Regression will be our final model for predicting effective treatments of diabetic patients with 75% accuracy and giving least number of False Negative values compared to other models.\n",
    "\n",
    "## From this 75% Accuracy we can infer that there are 75% for a patient who are taking predicted treatment will not readmit into the hospital and thus if patient taking a treatment and not admitted into the hopital then it an effective treatmen"
   ]
  },
  {
   "cell_type": "code",
   "execution_count": 248,
   "metadata": {},
   "outputs": [],
   "source": [
    "\n"
   ]
  },
  {
   "cell_type": "code",
   "execution_count": null,
   "metadata": {},
   "outputs": [],
   "source": []
  },
  {
   "cell_type": "code",
   "execution_count": 115,
   "metadata": {},
   "outputs": [],
   "source": []
  },
  {
   "cell_type": "code",
   "execution_count": null,
   "metadata": {},
   "outputs": [],
   "source": []
  },
  {
   "cell_type": "code",
   "execution_count": null,
   "metadata": {},
   "outputs": [],
   "source": []
  },
  {
   "cell_type": "code",
   "execution_count": 120,
   "metadata": {},
   "outputs": [],
   "source": []
  },
  {
   "cell_type": "code",
   "execution_count": 121,
   "metadata": {},
   "outputs": [],
   "source": []
  },
  {
   "cell_type": "code",
   "execution_count": null,
   "metadata": {},
   "outputs": [],
   "source": []
  },
  {
   "cell_type": "code",
   "execution_count": 125,
   "metadata": {},
   "outputs": [],
   "source": []
  },
  {
   "cell_type": "code",
   "execution_count": 126,
   "metadata": {},
   "outputs": [],
   "source": []
  },
  {
   "cell_type": "code",
   "execution_count": 127,
   "metadata": {},
   "outputs": [],
   "source": []
  },
  {
   "cell_type": "code",
   "execution_count": null,
   "metadata": {},
   "outputs": [],
   "source": []
  },
  {
   "cell_type": "code",
   "execution_count": null,
   "metadata": {},
   "outputs": [],
   "source": []
  },
  {
   "cell_type": "code",
   "execution_count": null,
   "metadata": {},
   "outputs": [],
   "source": []
  },
  {
   "cell_type": "code",
   "execution_count": null,
   "metadata": {},
   "outputs": [],
   "source": []
  },
  {
   "cell_type": "code",
   "execution_count": 264,
   "metadata": {},
   "outputs": [],
   "source": []
  },
  {
   "cell_type": "code",
   "execution_count": 265,
   "metadata": {},
   "outputs": [],
   "source": []
  },
  {
   "cell_type": "code",
   "execution_count": null,
   "metadata": {},
   "outputs": [],
   "source": []
  },
  {
   "cell_type": "code",
   "execution_count": null,
   "metadata": {},
   "outputs": [],
   "source": []
  },
  {
   "cell_type": "code",
   "execution_count": null,
   "metadata": {},
   "outputs": [],
   "source": []
  },
  {
   "cell_type": "code",
   "execution_count": null,
   "metadata": {},
   "outputs": [],
   "source": []
  },
  {
   "cell_type": "code",
   "execution_count": null,
   "metadata": {},
   "outputs": [],
   "source": []
  }
 ],
 "metadata": {
  "kernelspec": {
   "display_name": "Python 3",
   "language": "python",
   "name": "python3"
  },
  "language_info": {
   "codemirror_mode": {
    "name": "ipython",
    "version": 3
   },
   "file_extension": ".py",
   "mimetype": "text/x-python",
   "name": "python",
   "nbconvert_exporter": "python",
   "pygments_lexer": "ipython3",
   "version": "3.7.6"
  }
 },
 "nbformat": 4,
 "nbformat_minor": 2
}
